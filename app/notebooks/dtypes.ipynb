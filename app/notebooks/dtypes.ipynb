{
 "cells": [
  {
   "cell_type": "code",
   "execution_count": 3,
   "metadata": {},
   "outputs": [],
   "source": [
    "import pandas as pd\n",
    "import numpy as np\n",
    "import matplotlib.pyplot as plt"
   ]
  },
  {
   "cell_type": "code",
   "execution_count": 4,
   "metadata": {},
   "outputs": [
    {
     "name": "stderr",
     "output_type": "stream",
     "text": [
      "C:\\Users\\hb888\\AppData\\Local\\Temp\\ipykernel_12364\\712078180.py:2: DtypeWarning: Columns (51,59,62,63,67,69,72,73,86,88,90,91,93,94,96,97) have mixed types. Specify dtype option on import or set low_memory=False.\n",
      "  original_df = pd.read_csv(r'../data/first_1000_JSON_files.csv')\n"
     ]
    }
   ],
   "source": [
    "# have the original data, so you can always go back to it or compare it to the new data\n",
    "original_df = pd.read_csv(r'../data/first_1000_JSON_files.csv')\n",
    "\n",
    "df = original_df.copy()"
   ]
  },
  {
   "cell_type": "markdown",
   "metadata": {},
   "source": [
    "**Data Exploration and Understanding:**\n",
    "\n",
    "Start by exploring and understanding the dataset. Identify the types of features, their distributions, and potential relationships between them.\n",
    "\n",
    "\n",
    "**Feature Selection:**\n",
    "\n",
    "Perform feature selection to reduce the number of features. This can help improve model performance, reduce overfitting, and speed up processing.\n",
    "\n",
    "**Setting Data Types:**\n",
    "\n",
    "Set the correct data types for these features. This ensures that the data is stored efficiently and accurately.\n",
    "\n",
    "**Data Cleaning:**\n",
    "\n",
    "After setting data types, perform data cleaning and handle any missing or inconsistent values."
   ]
  },
  {
   "cell_type": "markdown",
   "metadata": {},
   "source": [
    "## functions"
   ]
  },
  {
   "cell_type": "code",
   "execution_count": 5,
   "metadata": {},
   "outputs": [],
   "source": [
    "# a function to identify the types of features in a dataframe\n",
    "def feature_types(df):\n",
    "    feature_types = []\n",
    "    for feature in df.columns:\n",
    "        feature_types.append((feature, type(df[feature][0])))\n",
    "    return feature_types\n",
    "\n",
    "# a function that list all the columns in a dataframe\n",
    "def list_columns(df):\n",
    "    return df.columns"
   ]
  },
  {
   "cell_type": "code",
   "execution_count": 6,
   "metadata": {},
   "outputs": [
    {
     "data": {
      "text/plain": [
       "Index(['_id', 'imei', 'dts', 'dtd', 'event.key', 'event.dte',\n",
       "       'tracker.metric.bbatv', 'tracker.metric.bbatp', 'tracker.loc.dtg',\n",
       "       'tracker.loc.hdop', 'tracker.loc.alt', 'tracker.loc.ang',\n",
       "       'tracker.loc.sp', 'tracker.gsm.mcc', 'tracker.gsm.mnc',\n",
       "       'tracker.gsm.lac', 'tracker.gsm.cid', 'tracker.metric.rssi',\n",
       "       'tracker.metric.moving', 'device.metric.deculock',\n",
       "       'device.metric.dstatus', 'tracker.config.poutput',\n",
       "       'device.metric.bsocp', 'device.metric.bmv', 'device.config.bfcc',\n",
       "       'device.config.bfccp', 'device.metric.btemp', 'device.metric.bpackv',\n",
       "       'tracker.config.ecutype', 'device.metric.bcyc', 'device.config.dwheel',\n",
       "       'device.config.bdcc', 'device.config.bnomv', 'device.config.ecutype',\n",
       "       'device.metric.delectemp', 'device.metric.dpedcad',\n",
       "       'device.metric.dactualsp', 'device.metric.dlight',\n",
       "       'device.metric.dwheels', 'device.metric.bcur', 'device.metric.bstate',\n",
       "       'device.metric.msupp', 'device.metric.mpow', 'device.metric.dmostu',\n",
       "       'device.metric.dmostv', 'device.metric.dmostw', 'device.metric.dridem',\n",
       "       'device.metric.ddayl', 'device.metric.dcontodo', 'device.metric.dtrip',\n",
       "       'device.metric.dwalk', 'event.meta.status', 'device.metric.bdtlastc',\n",
       "       'device.config.dcontver', 'device.config.dcontser',\n",
       "       'device.metric.drange', 'device.metric.dodo', 'device.metric.dodom',\n",
       "       'device.config.ddisver', 'device.config.bser', 'device.config.bswver',\n",
       "       'device.config.ddisser', 'device.config.ddcser', 'device.config.ddcver',\n",
       "       'device.config.dpodser', 'device.config.dpodver', 'file_name',\n",
       "       'tracker.config.blename', 'tracker.config.blefwver', 'crash.type',\n",
       "       'crash.current', 'crash.total', 'crash.vectors',\n",
       "       'event.meta.started_at', 'event.meta.angle_threshold',\n",
       "       'event.meta.angular_change', 'event.meta.crash_timeout',\n",
       "       'event.meta.high_deviation_threshold',\n",
       "       'event.meta.low_deviation_threshold', 'event.meta.maximum_speed',\n",
       "       'event.meta.min_seconds_after_crash', 'event.meta.motion_time',\n",
       "       'event.meta.post_crash_deviation', 'event.meta.post_crash_speed',\n",
       "       'event.meta.pre_crash_deviation', 'event.meta.probability_threshold',\n",
       "       'event.meta.ride_event', 'event.meta.start_crash_proba',\n",
       "       'event.meta.true_crash', 'event.meta.true_crash_proba',\n",
       "       'event.meta.uuid', 'buff', 'event.meta.geofence_id',\n",
       "       'event.meta.triggered_by', 'device.metric.merr', 'tracker.config.fwver',\n",
       "       'tracker.config.gsmfwver', 'event.meta.message', 'event.meta.step'],\n",
       "      dtype='object')"
      ]
     },
     "execution_count": 6,
     "metadata": {},
     "output_type": "execute_result"
    }
   ],
   "source": [
    "list_columns(df)"
   ]
  },
  {
   "cell_type": "code",
   "execution_count": null,
   "metadata": {},
   "outputs": [],
   "source": []
  }
 ],
 "metadata": {
  "kernelspec": {
   "display_name": "Python 3",
   "language": "python",
   "name": "python3"
  },
  "language_info": {
   "codemirror_mode": {
    "name": "ipython",
    "version": 3
   },
   "file_extension": ".py",
   "mimetype": "text/x-python",
   "name": "python",
   "nbconvert_exporter": "python",
   "pygments_lexer": "ipython3",
   "version": "3.10.7"
  }
 },
 "nbformat": 4,
 "nbformat_minor": 2
}
