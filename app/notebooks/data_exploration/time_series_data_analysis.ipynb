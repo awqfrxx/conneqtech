{
 "cells": [
  {
   "cell_type": "code",
   "execution_count": 47,
   "metadata": {},
   "outputs": [],
   "source": [
    "import pandas as pd\n",
    "import numpy as np\n",
    "import matplotlib.pyplot as plt"
   ]
  },
  {
   "cell_type": "code",
   "execution_count": 48,
   "metadata": {},
   "outputs": [
    {
     "name": "stderr",
     "output_type": "stream",
     "text": [
      "C:\\Users\\hb888\\AppData\\Local\\Temp\\ipykernel_30508\\2475906193.py:2: DtypeWarning: Columns (51,59,62,63,67,69,72,73,86,88,90,91,93,94,96,97) have mixed types. Specify dtype option on import or set low_memory=False.\n",
      "  original_df = pd.read_csv(r'../../data/first_1000_JSON_files.csv', low_memory=True)\n"
     ]
    }
   ],
   "source": [
    "# load in the data\n",
    "original_df = pd.read_csv(r'../../data/first_1000_JSON_files.csv', low_memory=True)\n",
    "\n",
    "# create a copy to work on\n",
    "df = original_df.copy()\n",
    "\n",
    "# change the value in the imei column to display  from scientific notation to standard notation\n",
    "pd.set_option('display.float_format', lambda x: '%.3f' % x)\n",
    "\n",
    "# change dtype of imei column to int64\n",
    "df['imei'] = df['imei'].astype('int64')\n",
    "\n",
    "# change dtype of dtd column to datetime\n",
    "df['dtd'] = pd.to_datetime(df['dtd'])"
   ]
  },
  {
   "cell_type": "markdown",
   "metadata": {},
   "source": [
    "### variables"
   ]
  },
  {
   "cell_type": "code",
   "execution_count": 56,
   "metadata": {},
   "outputs": [],
   "source": [
    "# set the imei variable to what to filter the rows on (this can be changed manually)\n",
    "imei = [868500050064237]\n",
    "\n",
    "# set a variable to select the column(s) to display\n",
    "columns_to_display = ['imei',\n",
    "                      'dtd',\n",
    "                      'tracker.metric.bbatp',\n",
    "                      'event.key'\n",
    "                      ]\n",
    "\n",
    "# set a variable to select which column(s) to focus on during the analysis\n",
    "columns_to_focus_on = ['tracker.metric.bbatp', 'event.key']"
   ]
  },
  {
   "cell_type": "markdown",
   "metadata": {},
   "source": [
    "### data exploration"
   ]
  },
  {
   "cell_type": "code",
   "execution_count": 57,
   "metadata": {},
   "outputs": [],
   "source": [
    "# filter the rows based on the imei variable and display the columns in the columns_to_display variable\n",
    "df = df[df['imei'].isin(imei)][columns_to_display]"
   ]
  },
  {
   "cell_type": "code",
   "execution_count": 62,
   "metadata": {},
   "outputs": [
    {
     "name": "stdout",
     "output_type": "stream",
     "text": [
      "100.000    16632\n",
      "98.000        51\n",
      "97.000         9\n",
      "96.000         5\n",
      "Name: tracker.metric.bbatp, dtype: int64 \n",
      "\n",
      "battery_info                   7079\n",
      "main_to_backup_battery         3536\n",
      "backup_to_main_battery         3535\n",
      "main_battery_charging_start     568\n",
      "main_battery_charging_stop      565\n",
      "crash_data                      147\n",
      "rest_to_motion                   50\n",
      "motion_to_rest                   50\n",
      "crashed                          21\n",
      "crashdetection_nocrash           20\n",
      "device_on                        17\n",
      "device_off                       17\n",
      "moving_start                     12\n",
      "moving_stop                      12\n",
      "ride_stop                         9\n",
      "ride_start                        9\n",
      "charging_start                    2\n",
      "charging_stop                     2\n",
      "Name: event.key, dtype: int64 \n",
      "\n"
     ]
    }
   ],
   "source": [
    "# for the columns in the columns_to_focus_on variable, show the value_counts\n",
    "for column in columns_to_focus_on:\n",
    "    print(df[column].value_counts(), '\\n') # put whitespace between the value_counts for readability"
   ]
  },
  {
   "cell_type": "code",
   "execution_count": 63,
   "metadata": {},
   "outputs": [
    {
     "name": "stdout",
     "output_type": "stream",
     "text": [
      "NaN values in tracker.metric.bbatp: 12809 \n",
      "\n",
      "NaN values in event.key: 13855 \n",
      "\n"
     ]
    }
   ],
   "source": [
    "# for the columns_to_focus_on variable, show the NaN values\n",
    "for column in columns_to_focus_on:\n",
    "    print(f'NaN values in {column}: {df[column].isna().sum()}', '\\n')"
   ]
  },
  {
   "cell_type": "code",
   "execution_count": null,
   "metadata": {},
   "outputs": [],
   "source": []
  }
 ],
 "metadata": {
  "kernelspec": {
   "display_name": "Python 3",
   "language": "python",
   "name": "python3"
  },
  "language_info": {
   "codemirror_mode": {
    "name": "ipython",
    "version": 3
   },
   "file_extension": ".py",
   "mimetype": "text/x-python",
   "name": "python",
   "nbconvert_exporter": "python",
   "pygments_lexer": "ipython3",
   "version": "3.10.7"
  }
 },
 "nbformat": 4,
 "nbformat_minor": 2
}
