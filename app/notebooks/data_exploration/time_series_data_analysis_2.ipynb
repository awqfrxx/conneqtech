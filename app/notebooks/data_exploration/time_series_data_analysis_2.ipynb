{
 "cells": [
  {
   "cell_type": "code",
   "execution_count": 327,
   "metadata": {},
   "outputs": [],
   "source": [
    "import pandas as pd\n",
    "import numpy as np\n",
    "import matplotlib.pyplot as plt"
   ]
  },
  {
   "cell_type": "code",
   "execution_count": 328,
   "metadata": {},
   "outputs": [],
   "source": [
    "# load data\n",
    "original_df = pd.read_csv('../../data/data_exploration_df.csv')\n",
    "\n",
    "# make a copy\n",
    "df = original_df.copy()"
   ]
  },
  {
   "cell_type": "markdown",
   "metadata": {},
   "source": [
    "### functions"
   ]
  },
  {
   "cell_type": "code",
   "execution_count": 329,
   "metadata": {},
   "outputs": [],
   "source": [
    "# function that takes in the events_to_analyze and returns the dataframes for each event with the lenght, number of NaN values, and print the names of the created dataframes\n",
    "def create_event_dataframes(events_to_analyze, df):\n",
    "    event_dataframes = {}\n",
    "    for event in events_to_analyze:\n",
    "        event_dataframes[event] = df[df['event.key'] == event]\n",
    "        print(event, 'dataframe created')\n",
    "    return event_dataframes\n",
    "\n",
    "# function that creates a dataframe where event.key is a NaN value\n",
    "def create_nan_event_dataframes(df):\n",
    "    nan_event_df = df[df['event.key'].isna()]\n",
    "    print('NaN event dataframe created')\n",
    "    return nan_event_df\n",
    "\n",
    "# function that takes in the event_dataframes nan_event_df and returns the lenght, number of NaN values for each column in each dataframe\n",
    "def analyze_event_dataframes(event_dataframes, nan_event_df):\n",
    "    for event in event_dataframes:\n",
    "        print(event, 'dataframe')\n",
    "        print('Lenght:', len(event_dataframes[event]))\n",
    "        print('Number of NaN values:')\n",
    "        print(event_dataframes[event].isna().sum())\n",
    "        print('\\n')\n",
    "    print('NaN event dataframe')\n",
    "    print('Lenght:', len(nan_event_df))\n",
    "    print('Number of NaN values:')\n",
    "    print(nan_event_df.isna().sum())"
   ]
  },
  {
   "cell_type": "markdown",
   "metadata": {},
   "source": [
    "### variables"
   ]
  },
  {
   "cell_type": "code",
   "execution_count": 330,
   "metadata": {},
   "outputs": [],
   "source": [
    "events_to_analyze = ['battery_info', 'crash_data']\n",
    "columns_to_analyze = ['tracker.metric.bbatp','device.metric.dactualsp',\t'device.metric.btemp']"
   ]
  },
  {
   "cell_type": "markdown",
   "metadata": {},
   "source": [
    "### run functions"
   ]
  },
  {
   "cell_type": "code",
   "execution_count": 331,
   "metadata": {},
   "outputs": [
    {
     "name": "stdout",
     "output_type": "stream",
     "text": [
      "battery_info dataframe created\n",
      "crash_data dataframe created\n"
     ]
    }
   ],
   "source": [
    "event_dataframes = create_event_dataframes(events_to_analyze, df)"
   ]
  },
  {
   "cell_type": "code",
   "execution_count": 332,
   "metadata": {},
   "outputs": [
    {
     "name": "stdout",
     "output_type": "stream",
     "text": [
      "NaN event dataframe created\n"
     ]
    }
   ],
   "source": [
    "nan_event_df = create_nan_event_dataframes(df)"
   ]
  },
  {
   "cell_type": "code",
   "execution_count": 333,
   "metadata": {},
   "outputs": [
    {
     "name": "stdout",
     "output_type": "stream",
     "text": [
      "battery_info dataframe\n",
      "Lenght: 37754\n",
      "Number of NaN values:\n",
      "imei                           0\n",
      "dtd                            0\n",
      "tracker.metric.bbatp           0\n",
      "device.metric.dactualsp    37754\n",
      "device.metric.btemp        21031\n",
      "event.key                      0\n",
      "dtype: int64\n",
      "\n",
      "\n",
      "crash_data dataframe\n",
      "Lenght: 20320\n",
      "Number of NaN values:\n",
      "imei                           0\n",
      "dtd                            0\n",
      "tracker.metric.bbatp       20320\n",
      "device.metric.dactualsp    20320\n",
      "device.metric.btemp        20320\n",
      "event.key                      0\n",
      "dtype: int64\n",
      "\n",
      "\n",
      "NaN event dataframe\n",
      "Lenght: 535094\n",
      "Number of NaN values:\n",
      "imei                            0\n",
      "dtd                            50\n",
      "tracker.metric.bbatp       270336\n",
      "device.metric.dactualsp    319743\n",
      "device.metric.btemp        319608\n",
      "event.key                  535094\n",
      "dtype: int64\n"
     ]
    }
   ],
   "source": [
    "analyze_event_dataframes(event_dataframes, nan_event_df)"
   ]
  },
  {
   "cell_type": "code",
   "execution_count": 345,
   "metadata": {},
   "outputs": [
    {
     "data": {
      "text/plain": [
       "868500050064237    7079\n",
       "868500050058080    3430\n",
       "868500050059781    1553\n",
       "868500050061233    1104\n",
       "868500050060516    1082\n",
       "                   ... \n",
       "868500050066323       3\n",
       "868500050063494       3\n",
       "868500050063452       3\n",
       "868500050061977       3\n",
       "868500050058544       2\n",
       "Name: imei, Length: 948, dtype: int64"
      ]
     },
     "execution_count": 345,
     "metadata": {},
     "output_type": "execute_result"
    }
   ],
   "source": [
    "battery_info_df = event_dataframes['battery_info']\n",
    "battery_info_df['imei'].value_counts()"
   ]
  },
  {
   "cell_type": "code",
   "execution_count": 346,
   "metadata": {},
   "outputs": [],
   "source": [
    "# function that shows the describe() of all the events_to_analyze for each event and also for the nan_event_df\n",
    "def describe_event_dataframes(event_dataframes, nan_event_df):\n",
    "    for event in event_dataframes:\n",
    "        print(event, 'dataframe')\n",
    "        print(event_dataframes[event].describe())\n",
    "        print('\\n')\n",
    "    print('NaN event dataframe')\n",
    "    print(nan_event_df.describe())"
   ]
  },
  {
   "cell_type": "code",
   "execution_count": 347,
   "metadata": {},
   "outputs": [
    {
     "name": "stdout",
     "output_type": "stream",
     "text": [
      "battery_info dataframe\n",
      "               imei  tracker.metric.bbatp  device.metric.dactualsp  \\\n",
      "count  3.775400e+04          37754.000000                      0.0   \n",
      "mean   8.685001e+14             87.656805                      NaN   \n",
      "std    4.865396e+03             25.455468                      NaN   \n",
      "min    8.685001e+14              0.000000                      NaN   \n",
      "25%    8.685001e+14             92.000000                      NaN   \n",
      "50%    8.685001e+14            100.000000                      NaN   \n",
      "75%    8.685001e+14            100.000000                      NaN   \n",
      "max    8.685001e+14            100.000000                      NaN   \n",
      "\n",
      "       device.metric.btemp  \n",
      "count         16723.000000  \n",
      "mean              8.597620  \n",
      "std               4.961491  \n",
      "min               0.000000  \n",
      "25%               7.000000  \n",
      "50%               8.000000  \n",
      "75%              11.000000  \n",
      "max              36.000000  \n",
      "\n",
      "\n",
      "crash_data dataframe\n",
      "               imei  tracker.metric.bbatp  device.metric.dactualsp  \\\n",
      "count  2.032000e+04                   0.0                      0.0   \n",
      "mean   8.685001e+14                   NaN                      NaN   \n",
      "std    5.864085e+03                   NaN                      NaN   \n",
      "min    8.685001e+14                   NaN                      NaN   \n",
      "25%    8.685001e+14                   NaN                      NaN   \n",
      "50%    8.685001e+14                   NaN                      NaN   \n",
      "75%    8.685001e+14                   NaN                      NaN   \n",
      "max    8.685001e+14                   NaN                      NaN   \n",
      "\n",
      "       device.metric.btemp  \n",
      "count                  0.0  \n",
      "mean                   NaN  \n",
      "std                    NaN  \n",
      "min                    NaN  \n",
      "25%                    NaN  \n",
      "50%                    NaN  \n",
      "75%                    NaN  \n",
      "max                    NaN  \n",
      "\n",
      "\n",
      "NaN event dataframe\n",
      "               imei  tracker.metric.bbatp  device.metric.dactualsp  \\\n",
      "count  5.350940e+05         264758.000000            215351.000000   \n",
      "mean   8.685001e+14             83.482848                 8.836718   \n",
      "std    5.992504e+03             24.477829                10.082124   \n",
      "min    8.685001e+14              0.000000                 0.000000   \n",
      "25%    8.685001e+14             77.000000                 0.000000   \n",
      "50%    8.685001e+14             96.000000                 0.000000   \n",
      "75%    8.685001e+14            100.000000                19.000000   \n",
      "max    8.685001e+14            100.000000                60.000000   \n",
      "\n",
      "       device.metric.btemp  \n",
      "count        215486.000000  \n",
      "mean              9.477785  \n",
      "std               4.502693  \n",
      "min               0.000000  \n",
      "25%               6.000000  \n",
      "50%               9.000000  \n",
      "75%              12.000000  \n",
      "max              36.000000  \n"
     ]
    }
   ],
   "source": [
    "describe_event_dataframes(event_dataframes, nan_event_df)"
   ]
  },
  {
   "cell_type": "code",
   "execution_count": 349,
   "metadata": {},
   "outputs": [
    {
     "name": "stdout",
     "output_type": "stream",
     "text": [
      "battery_info dataframe\n"
     ]
    },
    {
     "data": {
      "image/png": "[encoded data removed]",
      "text/plain": [
       "<Figure size 432x288 with 1 Axes>"
      ]
     },
     "metadata": {
      "needs_background": "light"
     },
     "output_type": "display_data"
    },
    {
     "data": {
      "image/png": "[encoded data removed]",
      "text/plain": [
       "<Figure size 432x288 with 1 Axes>"
      ]
     },
     "metadata": {
      "needs_background": "light"
     },
     "output_type": "display_data"
    },
    {
     "data": {
      "image/png": "[encoded data removed]",
      "text/plain": [
       "<Figure size 432x288 with 1 Axes>"
      ]
     },
     "metadata": {
      "needs_background": "light"
     },
     "output_type": "display_data"
    },
    {
     "name": "stdout",
     "output_type": "stream",
     "text": [
      "crash_data dataframe\n"
     ]
    },
    {
     "data": {
      "image/png": "[encoded data removed]",
      "text/plain": [
       "<Figure size 432x288 with 1 Axes>"
      ]
     },
     "metadata": {
      "needs_background": "light"
     },
     "output_type": "display_data"
    },
    {
     "data": {
      "image/png": "[encoded data removed]",
      "text/plain": [
       "<Figure size 432x288 with 1 Axes>"
      ]
     },
     "metadata": {
      "needs_background": "light"
     },
     "output_type": "display_data"
    },
    {
     "data": {
      "image/png": "[encoded data removed]",
      "text/plain": [
       "<Figure size 432x288 with 1 Axes>"
      ]
     },
     "metadata": {
      "needs_background": "light"
     },
     "output_type": "display_data"
    },
    {
     "name": "stdout",
     "output_type": "stream",
     "text": [
      "NaN event dataframe\n"
     ]
    },
    {
     "data": {
      "image/png": "[encoded data removed]",
      "text/plain": [
       "<Figure size 432x288 with 1 Axes>"
      ]
     },
     "metadata": {
      "needs_background": "light"
     },
     "output_type": "display_data"
    },
    {
     "data": {
      "image/png": "[encoded data removed]",
      "text/plain": [
       "<Figure size 432x288 with 1 Axes>"
      ]
     },
     "metadata": {
      "needs_background": "light"
     },
     "output_type": "display_data"
    },
    {
     "data": {
      "image/png": "[encoded data removed]",
      "text/plain": [
       "<Figure size 432x288 with 1 Axes>"
      ]
     },
     "metadata": {
      "needs_background": "light"
     },
     "output_type": "display_data"
    }
   ],
   "source": [
    "# function that plots the histograms of the columns_to_analyze for each event and also for the nan_event_df\n",
    "def plot_histograms(event_dataframes, nan_event_df, columns_to_analyze):\n",
    "    for event in event_dataframes:\n",
    "        print(event, 'dataframe')\n",
    "        for column in columns_to_analyze:\n",
    "            event_dataframes[event][column].hist()\n",
    "            plt.title(column)\n",
    "            plt.show()\n",
    "    print('NaN event dataframe')\n",
    "    for column in columns_to_analyze:\n",
    "        nan_event_df[column].hist()\n",
    "        plt.title(column)\n",
    "        plt.show()\n",
    "\n",
    "plot_histograms(event_dataframes, nan_event_df, columns_to_analyze)"
   ]
  }
 ],
 "metadata": {
  "kernelspec": {
   "display_name": "Python 3",
   "language": "python",
   "name": "python3"
  },
  "language_info": {
   "codemirror_mode": {
    "name": "ipython",
    "version": 3
   },
   "file_extension": ".py",
   "mimetype": "text/x-python",
   "name": "python",
   "nbconvert_exporter": "python",
   "pygments_lexer": "ipython3",
   "version": "3.10.7"
  }
 },
 "nbformat": 4,
 "nbformat_minor": 2
}
