{
 "cells": [
  {
   "cell_type": "code",
   "execution_count": null,
   "metadata": {},
   "outputs": [],
   "source": [
    "import pandas as pd\n",
    "import numpy as np\n",
    "import matplotlib.pyplot as plt"
   ]
  },
  {
   "cell_type": "code",
   "execution_count": null,
   "metadata": {},
   "outputs": [],
   "source": [
    "# load data\n",
    "original_df = pd.read_csv('../../data/data_exploration_df.csv')\n",
    "\n",
    "# make a copy\n",
    "df = original_df.copy()"
   ]
  },
  {
   "cell_type": "markdown",
   "metadata": {},
   "source": [
    "### functions"
   ]
  },
  {
   "cell_type": "code",
   "execution_count": null,
   "metadata": {},
   "outputs": [],
   "source": [
    "# function that takes in the events_to_analyze and returns the dataframes for each event with the lenght, number of NaN values, and print the names of the created dataframes\n",
    "def create_event_dataframes(events_to_analyze, df):\n",
    "    event_dataframes = {}\n",
    "    for event in events_to_analyze:\n",
    "        event_dataframes[event] = df[df['event.key'] == event]\n",
    "        print(event, 'dataframe created')\n",
    "    return event_dataframes\n",
    "\n",
    "# function that creates a dataframe where event.key is a NaN value\n",
    "def create_nan_event_dataframes(df):\n",
    "    nan_event_df = df[df['event.key'].isna()]\n",
    "    print('NaN event dataframe created')\n",
    "    return nan_event_df\n",
    "\n",
    "# function that takes in the event_dataframes nan_event_df and returns the lenght, number of NaN values for each column in each dataframe\n",
    "def analyze_event_dataframes(event_dataframes, nan_event_df):\n",
    "    for event in event_dataframes:\n",
    "        print(event, 'dataframe')\n",
    "        print('Lenght:', len(event_dataframes[event]))\n",
    "        print('Number of NaN values:')\n",
    "        print(event_dataframes[event].isna().sum())\n",
    "        print('\\n')\n",
    "    print('NaN event dataframe')\n",
    "    print('Lenght:', len(nan_event_df))\n",
    "    print('Number of NaN values:')\n",
    "    print(nan_event_df.isna().sum())"
   ]
  },
  {
   "cell_type": "markdown",
   "metadata": {},
   "source": [
    "### variables"
   ]
  },
  {
   "cell_type": "code",
   "execution_count": null,
   "metadata": {},
   "outputs": [],
   "source": [
    "events_to_analyze = ['battery_info', 'crash_data']\n",
    "columns_to_analyze = ['tracker.metric.bbatp','device.metric.dactualsp',\t'device.metric.btemp']"
   ]
  },
  {
   "cell_type": "markdown",
   "metadata": {},
   "source": [
    "### run functions"
   ]
  },
  {
   "cell_type": "code",
   "execution_count": null,
   "metadata": {},
   "outputs": [],
   "source": [
    "event_dataframes = create_event_dataframes(events_to_analyze, df)"
   ]
  },
  {
   "cell_type": "code",
   "execution_count": null,
   "metadata": {},
   "outputs": [],
   "source": [
    "nan_event_df = create_nan_event_dataframes(df)"
   ]
  },
  {
   "cell_type": "code",
   "execution_count": null,
   "metadata": {},
   "outputs": [],
   "source": [
    "analyze_event_dataframes(event_dataframes, nan_event_df)"
   ]
  },
  {
   "cell_type": "code",
   "execution_count": null,
   "metadata": {},
   "outputs": [],
   "source": [
    "battery_info_df = event_dataframes['battery_info']\n",
    "battery_info_df['imei'].value_counts()"
   ]
  },
  {
   "cell_type": "code",
   "execution_count": null,
   "metadata": {},
   "outputs": [],
   "source": [
    "# function that shows the describe() of all the events_to_analyze for each event and also for the nan_event_df\n",
    "def describe_event_dataframes(event_dataframes, nan_event_df):\n",
    "    for event in event_dataframes:\n",
    "        print(event, 'dataframe')\n",
    "        print(event_dataframes[event].describe())\n",
    "        print('\\n')\n",
    "    print('NaN event dataframe')\n",
    "    print(nan_event_df.describe())"
   ]
  },
  {
   "cell_type": "code",
   "execution_count": null,
   "metadata": {},
   "outputs": [],
   "source": [
    "describe_event_dataframes(event_dataframes, nan_event_df)"
   ]
  },
  {
   "cell_type": "code",
   "execution_count": null,
   "metadata": {},
   "outputs": [],
   "source": [
    "# function that plots the histograms of the columns_to_analyze for each event and also for the nan_event_df\n",
    "def plot_histograms(event_dataframes, nan_event_df, columns_to_analyze):\n",
    "    for event in event_dataframes:\n",
    "        print(event, 'dataframe')\n",
    "        for column in columns_to_analyze:\n",
    "            event_dataframes[event][column].hist()\n",
    "            plt.title(column)\n",
    "            plt.show()\n",
    "    print('NaN event dataframe')\n",
    "    for column in columns_to_analyze:\n",
    "        nan_event_df[column].hist()\n",
    "        plt.title(column)\n",
    "        plt.show()\n",
    "\n",
    "plot_histograms(event_dataframes, nan_event_df, columns_to_analyze)"
   ]
  }
 ],
 "metadata": {
  "kernelspec": {
   "display_name": "Python 3",
   "language": "python",
   "name": "python3"
  },
  "language_info": {
   "codemirror_mode": {
    "name": "ipython",
    "version": 3
   },
   "file_extension": ".py",
   "mimetype": "text/x-python",
   "name": "python",
   "nbconvert_exporter": "python",
   "pygments_lexer": "ipython3",
   "version": "3.10.7"
  }
 },
 "nbformat": 4,
 "nbformat_minor": 2
}
