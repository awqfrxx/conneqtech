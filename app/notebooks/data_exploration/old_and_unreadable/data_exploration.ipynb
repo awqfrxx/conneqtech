{
 "cells": [
  {
   "cell_type": "code",
   "execution_count": 2,
   "metadata": {},
   "outputs": [],
   "source": [
    "import pandas as pd\n",
    "import numpy as np\n",
    "import matplotlib.pyplot as plt"
   ]
  },
  {
   "cell_type": "code",
   "execution_count": 3,
   "metadata": {},
   "outputs": [
    {
     "name": "stderr",
     "output_type": "stream",
     "text": [
      "C:\\Users\\hb888\\AppData\\Local\\Temp\\ipykernel_29888\\904903100.py:2: DtypeWarning: Columns (51,59,62,63,67,69,72,73,86,88,90,91,93,94,96,97) have mixed types. Specify dtype option on import or set low_memory=False.\n",
      "  df = pd.read_csv(r\"../../../data/first_1000_JSON_files.csv\", low_memory=True)\n"
     ]
    }
   ],
   "source": [
    "# Load in the data\n",
    "df = pd.read_csv(r\"../../../data/first_1000_JSON_files.csv\", low_memory=True)\n",
    "\n",
    "# Create a copy of the dataframe to work with\n",
    "df_copy = df.copy()"
   ]
  },
  {
   "cell_type": "code",
   "execution_count": 4,
   "metadata": {},
   "outputs": [
    {
     "data": {
      "text/html": [
       "<div>\n",
       "<style scoped>\n",
       "    .dataframe tbody tr th:only-of-type {\n",
       "        vertical-align: middle;\n",
       "    }\n",
       "\n",
       "    .dataframe tbody tr th {\n",
       "        vertical-align: top;\n",
       "    }\n",
       "\n",
       "    .dataframe thead th {\n",
       "        text-align: right;\n",
       "    }\n",
       "</style>\n",
       "<table border=\"1\" class=\"dataframe\">\n",
       "  <thead>\n",
       "    <tr style=\"text-align: right;\">\n",
       "      <th></th>\n",
       "      <th>imei</th>\n",
       "      <th>tracker.metric.bbatv</th>\n",
       "      <th>tracker.metric.bbatp</th>\n",
       "      <th>tracker.loc.hdop</th>\n",
       "      <th>tracker.loc.alt</th>\n",
       "      <th>tracker.loc.ang</th>\n",
       "      <th>tracker.loc.sp</th>\n",
       "      <th>tracker.gsm.mcc</th>\n",
       "      <th>tracker.gsm.mnc</th>\n",
       "      <th>tracker.gsm.lac</th>\n",
       "      <th>...</th>\n",
       "      <th>event.meta.motion_time</th>\n",
       "      <th>event.meta.post_crash_deviation</th>\n",
       "      <th>event.meta.post_crash_speed</th>\n",
       "      <th>event.meta.pre_crash_deviation</th>\n",
       "      <th>event.meta.probability_threshold</th>\n",
       "      <th>event.meta.start_crash_proba</th>\n",
       "      <th>event.meta.true_crash_proba</th>\n",
       "      <th>event.meta.geofence_id</th>\n",
       "      <th>tracker.config.fwver</th>\n",
       "      <th>event.meta.step</th>\n",
       "    </tr>\n",
       "  </thead>\n",
       "  <tbody>\n",
       "    <tr>\n",
       "      <th>count</th>\n",
       "      <td>7.258610e+05</td>\n",
       "      <td>354249.000000</td>\n",
       "      <td>354249.000000</td>\n",
       "      <td>301817.000000</td>\n",
       "      <td>301817.000000</td>\n",
       "      <td>301817.000000</td>\n",
       "      <td>301817.000000</td>\n",
       "      <td>302377.000000</td>\n",
       "      <td>302377.000000</td>\n",
       "      <td>302377.000000</td>\n",
       "      <td>...</td>\n",
       "      <td>2698.000000</td>\n",
       "      <td>2698.000000</td>\n",
       "      <td>2429.000000</td>\n",
       "      <td>2698.000000</td>\n",
       "      <td>2698.0</td>\n",
       "      <td>2698.0</td>\n",
       "      <td>2698.000000</td>\n",
       "      <td>686.000000</td>\n",
       "      <td>2.00000</td>\n",
       "      <td>6.000000</td>\n",
       "    </tr>\n",
       "    <tr>\n",
       "      <th>mean</th>\n",
       "      <td>8.685001e+14</td>\n",
       "      <td>4.026312</td>\n",
       "      <td>84.291834</td>\n",
       "      <td>0.914862</td>\n",
       "      <td>8.728253</td>\n",
       "      <td>132.922890</td>\n",
       "      <td>11.949913</td>\n",
       "      <td>204.014928</td>\n",
       "      <td>8.014664</td>\n",
       "      <td>3283.314981</td>\n",
       "      <td>...</td>\n",
       "      <td>522.137139</td>\n",
       "      <td>0.597368</td>\n",
       "      <td>15.573075</td>\n",
       "      <td>0.608667</td>\n",
       "      <td>50.0</td>\n",
       "      <td>30.0</td>\n",
       "      <td>34.704107</td>\n",
       "      <td>71963.383382</td>\n",
       "      <td>1.55500</td>\n",
       "      <td>2.333333</td>\n",
       "    </tr>\n",
       "    <tr>\n",
       "      <th>std</th>\n",
       "      <td>5.889153e+03</td>\n",
       "      <td>0.268007</td>\n",
       "      <td>24.887891</td>\n",
       "      <td>0.385368</td>\n",
       "      <td>75.580734</td>\n",
       "      <td>119.772451</td>\n",
       "      <td>10.108115</td>\n",
       "      <td>0.513157</td>\n",
       "      <td>0.784375</td>\n",
       "      <td>719.523749</td>\n",
       "      <td>...</td>\n",
       "      <td>2891.755068</td>\n",
       "      <td>0.354705</td>\n",
       "      <td>7.356599</td>\n",
       "      <td>0.399790</td>\n",
       "      <td>0.0</td>\n",
       "      <td>0.0</td>\n",
       "      <td>4.838542</td>\n",
       "      <td>14385.329196</td>\n",
       "      <td>0.72832</td>\n",
       "      <td>0.816497</td>\n",
       "    </tr>\n",
       "    <tr>\n",
       "      <th>min</th>\n",
       "      <td>8.685001e+14</td>\n",
       "      <td>0.000000</td>\n",
       "      <td>0.000000</td>\n",
       "      <td>0.000000</td>\n",
       "      <td>-644.000000</td>\n",
       "      <td>0.000000</td>\n",
       "      <td>0.000000</td>\n",
       "      <td>204.000000</td>\n",
       "      <td>1.000000</td>\n",
       "      <td>12.000000</td>\n",
       "      <td>...</td>\n",
       "      <td>-1.000000</td>\n",
       "      <td>0.003371</td>\n",
       "      <td>0.000000</td>\n",
       "      <td>0.022666</td>\n",
       "      <td>50.0</td>\n",
       "      <td>30.0</td>\n",
       "      <td>21.870000</td>\n",
       "      <td>54987.000000</td>\n",
       "      <td>1.04000</td>\n",
       "      <td>1.000000</td>\n",
       "    </tr>\n",
       "    <tr>\n",
       "      <th>25%</th>\n",
       "      <td>8.685001e+14</td>\n",
       "      <td>3.991000</td>\n",
       "      <td>80.000000</td>\n",
       "      <td>1.000000</td>\n",
       "      <td>-5.000000</td>\n",
       "      <td>0.000000</td>\n",
       "      <td>0.000000</td>\n",
       "      <td>204.000000</td>\n",
       "      <td>8.000000</td>\n",
       "      <td>3140.000000</td>\n",
       "      <td>...</td>\n",
       "      <td>74.000000</td>\n",
       "      <td>0.332655</td>\n",
       "      <td>12.000000</td>\n",
       "      <td>0.313812</td>\n",
       "      <td>50.0</td>\n",
       "      <td>30.0</td>\n",
       "      <td>35.640000</td>\n",
       "      <td>62922.000000</td>\n",
       "      <td>1.29750</td>\n",
       "      <td>2.000000</td>\n",
       "    </tr>\n",
       "    <tr>\n",
       "      <th>50%</th>\n",
       "      <td>8.685001e+14</td>\n",
       "      <td>4.102000</td>\n",
       "      <td>97.000000</td>\n",
       "      <td>1.000000</td>\n",
       "      <td>4.000000</td>\n",
       "      <td>114.000000</td>\n",
       "      <td>14.000000</td>\n",
       "      <td>204.000000</td>\n",
       "      <td>8.000000</td>\n",
       "      <td>3260.000000</td>\n",
       "      <td>...</td>\n",
       "      <td>185.000000</td>\n",
       "      <td>0.528799</td>\n",
       "      <td>17.000000</td>\n",
       "      <td>0.494587</td>\n",
       "      <td>50.0</td>\n",
       "      <td>30.0</td>\n",
       "      <td>35.640000</td>\n",
       "      <td>65321.000000</td>\n",
       "      <td>1.55500</td>\n",
       "      <td>2.500000</td>\n",
       "    </tr>\n",
       "    <tr>\n",
       "      <th>75%</th>\n",
       "      <td>8.685001e+14</td>\n",
       "      <td>4.147000</td>\n",
       "      <td>100.000000</td>\n",
       "      <td>1.000000</td>\n",
       "      <td>17.000000</td>\n",
       "      <td>240.000000</td>\n",
       "      <td>20.000000</td>\n",
       "      <td>204.000000</td>\n",
       "      <td>8.000000</td>\n",
       "      <td>3360.000000</td>\n",
       "      <td>...</td>\n",
       "      <td>473.750000</td>\n",
       "      <td>0.779753</td>\n",
       "      <td>21.000000</td>\n",
       "      <td>0.798071</td>\n",
       "      <td>50.0</td>\n",
       "      <td>30.0</td>\n",
       "      <td>35.640000</td>\n",
       "      <td>79529.250000</td>\n",
       "      <td>1.81250</td>\n",
       "      <td>3.000000</td>\n",
       "    </tr>\n",
       "    <tr>\n",
       "      <th>max</th>\n",
       "      <td>8.685001e+14</td>\n",
       "      <td>4.228000</td>\n",
       "      <td>100.000000</td>\n",
       "      <td>6.000000</td>\n",
       "      <td>9294.000000</td>\n",
       "      <td>359.000000</td>\n",
       "      <td>149.000000</td>\n",
       "      <td>270.000000</td>\n",
       "      <td>99.000000</td>\n",
       "      <td>49308.000000</td>\n",
       "      <td>...</td>\n",
       "      <td>79777.000000</td>\n",
       "      <td>3.334789</td>\n",
       "      <td>37.000000</td>\n",
       "      <td>2.551362</td>\n",
       "      <td>50.0</td>\n",
       "      <td>30.0</td>\n",
       "      <td>85.536000</td>\n",
       "      <td>110384.000000</td>\n",
       "      <td>2.07000</td>\n",
       "      <td>3.000000</td>\n",
       "    </tr>\n",
       "  </tbody>\n",
       "</table>\n",
       "<p>8 rows × 65 columns</p>\n",
       "</div>"
      ],
      "text/plain": [
       "               imei  tracker.metric.bbatv  tracker.metric.bbatp  \\\n",
       "count  7.258610e+05         354249.000000         354249.000000   \n",
       "mean   8.685001e+14              4.026312             84.291834   \n",
       "std    5.889153e+03              0.268007             24.887891   \n",
       "min    8.685001e+14              0.000000              0.000000   \n",
       "25%    8.685001e+14              3.991000             80.000000   \n",
       "50%    8.685001e+14              4.102000             97.000000   \n",
       "75%    8.685001e+14              4.147000            100.000000   \n",
       "max    8.685001e+14              4.228000            100.000000   \n",
       "\n",
       "       tracker.loc.hdop  tracker.loc.alt  tracker.loc.ang  tracker.loc.sp  \\\n",
       "count     301817.000000    301817.000000    301817.000000   301817.000000   \n",
       "mean           0.914862         8.728253       132.922890       11.949913   \n",
       "std            0.385368        75.580734       119.772451       10.108115   \n",
       "min            0.000000      -644.000000         0.000000        0.000000   \n",
       "25%            1.000000        -5.000000         0.000000        0.000000   \n",
       "50%            1.000000         4.000000       114.000000       14.000000   \n",
       "75%            1.000000        17.000000       240.000000       20.000000   \n",
       "max            6.000000      9294.000000       359.000000      149.000000   \n",
       "\n",
       "       tracker.gsm.mcc  tracker.gsm.mnc  tracker.gsm.lac  ...  \\\n",
       "count    302377.000000    302377.000000    302377.000000  ...   \n",
       "mean        204.014928         8.014664      3283.314981  ...   \n",
       "std           0.513157         0.784375       719.523749  ...   \n",
       "min         204.000000         1.000000        12.000000  ...   \n",
       "25%         204.000000         8.000000      3140.000000  ...   \n",
       "50%         204.000000         8.000000      3260.000000  ...   \n",
       "75%         204.000000         8.000000      3360.000000  ...   \n",
       "max         270.000000        99.000000     49308.000000  ...   \n",
       "\n",
       "       event.meta.motion_time  event.meta.post_crash_deviation  \\\n",
       "count             2698.000000                      2698.000000   \n",
       "mean               522.137139                         0.597368   \n",
       "std               2891.755068                         0.354705   \n",
       "min                 -1.000000                         0.003371   \n",
       "25%                 74.000000                         0.332655   \n",
       "50%                185.000000                         0.528799   \n",
       "75%                473.750000                         0.779753   \n",
       "max              79777.000000                         3.334789   \n",
       "\n",
       "       event.meta.post_crash_speed  event.meta.pre_crash_deviation  \\\n",
       "count                  2429.000000                     2698.000000   \n",
       "mean                     15.573075                        0.608667   \n",
       "std                       7.356599                        0.399790   \n",
       "min                       0.000000                        0.022666   \n",
       "25%                      12.000000                        0.313812   \n",
       "50%                      17.000000                        0.494587   \n",
       "75%                      21.000000                        0.798071   \n",
       "max                      37.000000                        2.551362   \n",
       "\n",
       "       event.meta.probability_threshold  event.meta.start_crash_proba  \\\n",
       "count                            2698.0                        2698.0   \n",
       "mean                               50.0                          30.0   \n",
       "std                                 0.0                           0.0   \n",
       "min                                50.0                          30.0   \n",
       "25%                                50.0                          30.0   \n",
       "50%                                50.0                          30.0   \n",
       "75%                                50.0                          30.0   \n",
       "max                                50.0                          30.0   \n",
       "\n",
       "       event.meta.true_crash_proba  event.meta.geofence_id  \\\n",
       "count                  2698.000000              686.000000   \n",
       "mean                     34.704107            71963.383382   \n",
       "std                       4.838542            14385.329196   \n",
       "min                      21.870000            54987.000000   \n",
       "25%                      35.640000            62922.000000   \n",
       "50%                      35.640000            65321.000000   \n",
       "75%                      35.640000            79529.250000   \n",
       "max                      85.536000           110384.000000   \n",
       "\n",
       "       tracker.config.fwver  event.meta.step  \n",
       "count               2.00000         6.000000  \n",
       "mean                1.55500         2.333333  \n",
       "std                 0.72832         0.816497  \n",
       "min                 1.04000         1.000000  \n",
       "25%                 1.29750         2.000000  \n",
       "50%                 1.55500         2.500000  \n",
       "75%                 1.81250         3.000000  \n",
       "max                 2.07000         3.000000  \n",
       "\n",
       "[8 rows x 65 columns]"
      ]
     },
     "execution_count": 4,
     "metadata": {},
     "output_type": "execute_result"
    }
   ],
   "source": [
    "df.describe()"
   ]
  },
  {
   "cell_type": "code",
   "execution_count": 5,
   "metadata": {},
   "outputs": [
    {
     "name": "stdout",
     "output_type": "stream",
     "text": [
      "<class 'pandas.core.frame.DataFrame'>\n",
      "RangeIndex: 725861 entries, 0 to 725860\n",
      "Data columns (total 99 columns):\n",
      " #   Column                               Non-Null Count   Dtype  \n",
      "---  ------                               --------------   -----  \n",
      " 0   _id                                  725861 non-null  object \n",
      " 1   imei                                 725861 non-null  float64\n",
      " 2   dts                                  725861 non-null  object \n",
      " 3   dtd                                  699926 non-null  object \n",
      " 4   event.key                            190767 non-null  object \n",
      " 5   event.dte                            190767 non-null  object \n",
      " 6   tracker.metric.bbatv                 354249 non-null  float64\n",
      " 7   tracker.metric.bbatp                 354249 non-null  float64\n",
      " 8   tracker.loc.dtg                      301755 non-null  object \n",
      " 9   tracker.loc.hdop                     301817 non-null  float64\n",
      " 10  tracker.loc.alt                      301817 non-null  float64\n",
      " 11  tracker.loc.ang                      301817 non-null  float64\n",
      " 12  tracker.loc.sp                       301817 non-null  float64\n",
      " 13  tracker.gsm.mcc                      302377 non-null  float64\n",
      " 14  tracker.gsm.mnc                      302377 non-null  float64\n",
      " 15  tracker.gsm.lac                      302377 non-null  float64\n",
      " 16  tracker.gsm.cid                      302377 non-null  float64\n",
      " 17  tracker.metric.rssi                  265159 non-null  float64\n",
      " 18  tracker.metric.moving                302377 non-null  object \n",
      " 19  device.metric.deculock               587002 non-null  object \n",
      " 20  device.metric.dstatus                586247 non-null  object \n",
      " 21  tracker.config.poutput               51219 non-null   object \n",
      " 22  device.metric.bsocp                  240103 non-null  float64\n",
      " 23  device.metric.bmv                    280496 non-null  float64\n",
      " 24  device.config.bfcc                   47028 non-null   float64\n",
      " 25  device.config.bfccp                  46776 non-null   float64\n",
      " 26  device.metric.btemp                  232209 non-null  float64\n",
      " 27  device.metric.bpackv                 284499 non-null  float64\n",
      " 28  tracker.config.ecutype               54157 non-null   float64\n",
      " 29  device.metric.bcyc                   231577 non-null  float64\n",
      " 30  device.config.dwheel                 40818 non-null   float64\n",
      " 31  device.config.bdcc                   50475 non-null   float64\n",
      " 32  device.config.bnomv                  53933 non-null   float64\n",
      " 33  device.config.ecutype                54004 non-null   object \n",
      " 34  device.metric.delectemp              197066 non-null  float64\n",
      " 35  device.metric.dpedcad                214067 non-null  float64\n",
      " 36  device.metric.dactualsp              215351 non-null  float64\n",
      " 37  device.metric.dlight                 215351 non-null  object \n",
      " 38  device.metric.dwheels                117530 non-null  float64\n",
      " 39  device.metric.bcur                   215444 non-null  float64\n",
      " 40  device.metric.bstate                 219189 non-null  float64\n",
      " 41  device.metric.msupp                  215351 non-null  float64\n",
      " 42  device.metric.mpow                   194687 non-null  float64\n",
      " 43  device.metric.dmostu                 197313 non-null  float64\n",
      " 44  device.metric.dmostv                 197313 non-null  float64\n",
      " 45  device.metric.dmostw                 197313 non-null  float64\n",
      " 46  device.metric.dridem                 215351 non-null  float64\n",
      " 47  device.metric.ddayl                  215351 non-null  object \n",
      " 48  device.metric.dcontodo               215288 non-null  float64\n",
      " 49  device.metric.dtrip                  215351 non-null  float64\n",
      " 50  device.metric.dwalk                  196586 non-null  object \n",
      " 51  event.meta.status                    17127 non-null   object \n",
      " 52  device.metric.bdtlastc               31700 non-null   object \n",
      " 53  device.config.dcontver               37436 non-null   object \n",
      " 54  device.config.dcontser               35612 non-null   object \n",
      " 55  device.metric.drange                 193402 non-null  float64\n",
      " 56  device.metric.dodo                   195121 non-null  float64\n",
      " 57  device.metric.dodom                  195121 non-null  float64\n",
      " 58  device.config.ddisver                19433 non-null   float64\n",
      " 59  device.config.bser                   34666 non-null   object \n",
      " 60  device.config.bswver                 35481 non-null   object \n",
      " 61  device.config.ddisser                19407 non-null   float64\n",
      " 62  device.config.ddcser                 28259 non-null   object \n",
      " 63  device.config.ddcver                 32629 non-null   object \n",
      " 64  device.config.dpodser                32474 non-null   float64\n",
      " 65  device.config.dpodver                35371 non-null   float64\n",
      " 66  file_name                            725861 non-null  int64  \n",
      " 67  tracker.config.blename               565 non-null     object \n",
      " 68  tracker.config.blefwver              567 non-null     float64\n",
      " 69  crash.type                           20320 non-null   object \n",
      " 70  crash.current                        20320 non-null   float64\n",
      " 71  crash.total                          20320 non-null   float64\n",
      " 72  crash.vectors                        20320 non-null   object \n",
      " 73  event.meta.started_at                4680 non-null    object \n",
      " 74  event.meta.angle_threshold           2698 non-null    float64\n",
      " 75  event.meta.angular_change            2698 non-null    float64\n",
      " 76  event.meta.crash_timeout             2698 non-null    float64\n",
      " 77  event.meta.high_deviation_threshold  2698 non-null    float64\n",
      " 78  event.meta.low_deviation_threshold   2698 non-null    float64\n",
      " 79  event.meta.maximum_speed             2698 non-null    float64\n",
      " 80  event.meta.min_seconds_after_crash   2698 non-null    float64\n",
      " 81  event.meta.motion_time               2698 non-null    float64\n",
      " 82  event.meta.post_crash_deviation      2698 non-null    float64\n",
      " 83  event.meta.post_crash_speed          2429 non-null    float64\n",
      " 84  event.meta.pre_crash_deviation       2698 non-null    float64\n",
      " 85  event.meta.probability_threshold     2698 non-null    float64\n",
      " 86  event.meta.ride_event                2698 non-null    object \n",
      " 87  event.meta.start_crash_proba         2698 non-null    float64\n",
      " 88  event.meta.true_crash                2698 non-null    object \n",
      " 89  event.meta.true_crash_proba          2698 non-null    float64\n",
      " 90  event.meta.uuid                      2698 non-null    object \n",
      " 91  buff                                 4604 non-null    object \n",
      " 92  event.meta.geofence_id               686 non-null     float64\n",
      " 93  event.meta.triggered_by              686 non-null     object \n",
      " 94  device.metric.merr                   286 non-null     object \n",
      " 95  tracker.config.fwver                 2 non-null       float64\n",
      " 96  tracker.config.gsmfwver              2 non-null       object \n",
      " 97  event.meta.message                   6 non-null       object \n",
      " 98  event.meta.step                      6 non-null       float64\n",
      "dtypes: float64(64), int64(1), object(34)\n",
      "memory usage: 548.3+ MB\n"
     ]
    }
   ],
   "source": [
    "df.info()"
   ]
  },
  {
   "cell_type": "code",
   "execution_count": 17,
   "metadata": {},
   "outputs": [
    {
     "name": "stdout",
     "output_type": "stream",
     "text": [
      "['event.meta.status', 'event.meta.started_at', 'event.meta.angle_threshold', 'event.meta.angular_change', 'event.meta.crash_timeout', 'event.meta.high_deviation_threshold', 'event.meta.low_deviation_threshold', 'event.meta.maximum_speed', 'event.meta.min_seconds_after_crash', 'event.meta.motion_time', 'event.meta.post_crash_deviation', 'event.meta.post_crash_speed', 'event.meta.pre_crash_deviation', 'event.meta.probability_threshold', 'event.meta.ride_event', 'event.meta.start_crash_proba', 'event.meta.true_crash', 'event.meta.true_crash_proba', 'event.meta.uuid', 'event.meta.geofence_id', 'event.meta.triggered_by', 'event.meta.message', 'event.meta.step']\n"
     ]
    },
    {
     "data": {
      "text/plain": [
       "23"
      ]
     },
     "execution_count": 17,
     "metadata": {},
     "output_type": "execute_result"
    }
   ],
   "source": [
    "# show columns that start with device.metric\n",
    "device_metric_cols = [col for col in df.columns if col.startswith('event.meta')]\n",
    "print(device_metric_cols)\n",
    "\n",
    "# show total number of columns that start with device.metric\n",
    "len(device_metric_cols)"
   ]
  },
  {
   "cell_type": "code",
   "execution_count": 10,
   "metadata": {},
   "outputs": [
    {
     "name": "stdout",
     "output_type": "stream",
     "text": [
      "['device.config.bfcc', 'device.config.bfccp', 'device.config.dwheel', 'device.config.bdcc', 'device.config.bnomv', 'device.config.ecutype', 'device.config.dcontver', 'device.config.dcontser', 'device.config.ddisver', 'device.config.bser', 'device.config.bswver', 'device.config.ddisser', 'device.config.ddcser', 'device.config.ddcver', 'device.config.dpodser', 'device.config.dpodver']\n"
     ]
    },
    {
     "data": {
      "text/plain": [
       "16"
      ]
     },
     "execution_count": 10,
     "metadata": {},
     "output_type": "execute_result"
    }
   ],
   "source": [
    "# show columns that start with device.config\n",
    "device_config_cols = [col for col in df.columns if col.startswith('device.config')]\n",
    "print(device_config_cols)\n",
    "\n",
    "# show total number of columns that start with device.config\n",
    "len(device_config_cols)"
   ]
  },
  {
   "cell_type": "code",
   "execution_count": 9,
   "metadata": {},
   "outputs": [
    {
     "data": {
      "text/plain": [
       "Index(['_id', 'imei', 'dts', 'dtd', 'event.key', 'event.dte',\n",
       "       'tracker.metric.bbatv', 'tracker.metric.bbatp', 'tracker.loc.dtg',\n",
       "       'tracker.loc.hdop', 'tracker.loc.alt', 'tracker.loc.ang',\n",
       "       'tracker.loc.sp', 'tracker.gsm.mcc', 'tracker.gsm.mnc',\n",
       "       'tracker.gsm.lac', 'tracker.gsm.cid', 'tracker.metric.rssi',\n",
       "       'tracker.metric.moving', 'device.metric.deculock',\n",
       "       'device.metric.dstatus', 'tracker.config.poutput',\n",
       "       'device.metric.bsocp', 'device.metric.bmv', 'device.config.bfcc',\n",
       "       'device.config.bfccp', 'device.metric.btemp', 'device.metric.bpackv',\n",
       "       'tracker.config.ecutype', 'device.metric.bcyc', 'device.config.dwheel',\n",
       "       'device.config.bdcc', 'device.config.bnomv', 'device.config.ecutype',\n",
       "       'device.metric.delectemp', 'device.metric.dpedcad',\n",
       "       'device.metric.dactualsp', 'device.metric.dlight',\n",
       "       'device.metric.dwheels', 'device.metric.bcur', 'device.metric.bstate',\n",
       "       'device.metric.msupp', 'device.metric.mpow', 'device.metric.dmostu',\n",
       "       'device.metric.dmostv', 'device.metric.dmostw', 'device.metric.dridem',\n",
       "       'device.metric.ddayl', 'device.metric.dcontodo', 'device.metric.dtrip',\n",
       "       'device.metric.dwalk', 'event.meta.status', 'device.metric.bdtlastc',\n",
       "       'device.config.dcontver', 'device.config.dcontser',\n",
       "       'device.metric.drange', 'device.metric.dodo', 'device.metric.dodom',\n",
       "       'device.config.ddisver', 'device.config.bser', 'device.config.bswver',\n",
       "       'device.config.ddisser', 'device.config.ddcser', 'device.config.ddcver',\n",
       "       'device.config.dpodser', 'device.config.dpodver', 'file_name',\n",
       "       'tracker.config.blename', 'tracker.config.blefwver', 'crash.type',\n",
       "       'crash.current', 'crash.total', 'crash.vectors',\n",
       "       'event.meta.started_at', 'event.meta.angle_threshold',\n",
       "       'event.meta.angular_change', 'event.meta.crash_timeout',\n",
       "       'event.meta.high_deviation_threshold',\n",
       "       'event.meta.low_deviation_threshold', 'event.meta.maximum_speed',\n",
       "       'event.meta.min_seconds_after_crash', 'event.meta.motion_time',\n",
       "       'event.meta.post_crash_deviation', 'event.meta.post_crash_speed',\n",
       "       'event.meta.pre_crash_deviation', 'event.meta.probability_threshold',\n",
       "       'event.meta.ride_event', 'event.meta.start_crash_proba',\n",
       "       'event.meta.true_crash', 'event.meta.true_crash_proba',\n",
       "       'event.meta.uuid', 'buff', 'event.meta.geofence_id',\n",
       "       'event.meta.triggered_by', 'device.metric.merr', 'tracker.config.fwver',\n",
       "       'tracker.config.gsmfwver', 'event.meta.message', 'event.meta.step'],\n",
       "      dtype='object')"
      ]
     },
     "execution_count": 9,
     "metadata": {},
     "output_type": "execute_result"
    }
   ],
   "source": [
    "df.columns"
   ]
  },
  {
   "cell_type": "code",
   "execution_count": 25,
   "metadata": {},
   "outputs": [
    {
     "data": {
      "text/plain": [
       "813.1     6269\n",
       "302.9     5501\n",
       "1196.8    3896\n",
       "308.8     3882\n",
       "71.4      3844\n",
       "          ... \n",
       "2718.4       1\n",
       "2718.2       1\n",
       "2718.0       1\n",
       "2717.7       1\n",
       "871.2        1\n",
       "Name: device.metric.dtrip, Length: 42768, dtype: int64"
      ]
     },
     "execution_count": 25,
     "metadata": {},
     "output_type": "execute_result"
    }
   ],
   "source": [
    "# show rows where device.meta.dodo'].notnull()] and show that column\n",
    "df[df['device.metric.dtrip'].notnull()]['device.metric.dtrip'].value_counts()"
   ]
  },
  {
   "cell_type": "code",
   "execution_count": 24,
   "metadata": {},
   "outputs": [
    {
     "data": {
      "text/plain": [
       "1289000.0    5940\n",
       "2452000.0    5255\n",
       "2458000.0    3726\n",
       "4057000.0    3711\n",
       "2474000.0    3613\n",
       "             ... \n",
       "924000.0        1\n",
       "937000.0        1\n",
       "7222000.0       1\n",
       "8904000.0       1\n",
       "1783000.0       1\n",
       "Name: device.metric.dodom, Length: 8372, dtype: int64"
      ]
     },
     "execution_count": 24,
     "metadata": {},
     "output_type": "execute_result"
    }
   ],
   "source": [
    "# show rows where device.metric.dodom is not null and show that column\n",
    "df[df['device.metric.dodom'].notnull()]['device.metric.dodom'].value_counts()"
   ]
  },
  {
   "cell_type": "code",
   "execution_count": null,
   "metadata": {},
   "outputs": [],
   "source": [
    "# show the unique values in the 'event.key' column and their counts\n",
    "df['event.key'].value_counts()"
   ]
  },
  {
   "cell_type": "code",
   "execution_count": null,
   "metadata": {},
   "outputs": [],
   "source": [
    "# show the entire value in the 'imei' column. not the truncated version\n",
    "pd.set_option('display.max_colwidth', None)"
   ]
  },
  {
   "cell_type": "code",
   "execution_count": null,
   "metadata": {},
   "outputs": [],
   "source": [
    "df_copy.head(5)"
   ]
  },
  {
   "cell_type": "code",
   "execution_count": null,
   "metadata": {},
   "outputs": [],
   "source": [
    "df.describe()"
   ]
  },
  {
   "cell_type": "code",
   "execution_count": null,
   "metadata": {},
   "outputs": [],
   "source": [
    "# show a few values in the 'imei\" column and sohw the entire value not the truncated version\n",
    "df['imei'].value_counts()\n",
    "\n",
    "# change the value in the imei column to display  from scientific notation to standard notation\n",
    "pd.set_option('display.float_format', lambda x: '%.3f' % x)\n",
    "\n",
    "df.dtypes\n",
    "\n",
    "# change imei column to a int64 data type\n",
    "df['imei'] = df['imei'].astype('int64')\n",
    "\n",
    "# show the duplicates in the imei column\n",
    "df['imei'].value_counts()\n",
    "\n",
    "# show the top 10\n",
    "df['imei'].value_counts().head(10)"
   ]
  },
  {
   "cell_type": "code",
   "execution_count": null,
   "metadata": {},
   "outputs": [],
   "source": [
    "df_copy.info()"
   ]
  },
  {
   "cell_type": "code",
   "execution_count": null,
   "metadata": {},
   "outputs": [],
   "source": [
    "# Show the columns where the number of NaN values is at least 80% of the rows\n",
    "df_copy.columns[df_copy.isna().sum() > 0.8 * len(df_copy)]\n",
    "\n",
    "# Save these columns to a variable called columns_to_drop_because_of_80_percent_NaN\n",
    "columns_to_drop_because_of_80_percent_NaN = df_copy.columns[df_copy.isna().sum() > 0.8 * len(df_copy)]\n",
    "\n",
    "# Drop these columns from the dataframe\n",
    "df_copy = df_copy.drop(columns=columns_to_drop_because_of_80_percent_NaN)"
   ]
  },
  {
   "cell_type": "code",
   "execution_count": null,
   "metadata": {},
   "outputs": [],
   "source": [
    "df_copy"
   ]
  },
  {
   "cell_type": "code",
   "execution_count": null,
   "metadata": {},
   "outputs": [],
   "source": [
    "# Drop the columns that are not useful for the analysis\n",
    "columns_to_drop = ['_id', 'imei', 'dts', 'dtd', 'event.dte', 'tracker.loc.dtg', 'tracker.loc.hdop', 'tracker.loc.alt', 'tracker.loc.ang', 'tracker.loc.sp', 'tracker.gsm.mcc', 'tracker.gsm.mnc', 'tracker.gsm.lac', 'tracker.gsm.cid',\n",
    "                   'tracker.metric.deculock', 'tracker.metric.dstatus', 'file_name']\n",
    "\n",
    "# Check if the columns are in the dataframe and remove the ones that are\n",
    "for column in columns_to_drop:\n",
    "    if column in df_copy.columns:\n",
    "        df_copy = df_copy.drop(columns=column)"
   ]
  },
  {
   "cell_type": "code",
   "execution_count": null,
   "metadata": {},
   "outputs": [],
   "source": [
    "df_copy"
   ]
  },
  {
   "cell_type": "code",
   "execution_count": null,
   "metadata": {},
   "outputs": [],
   "source": [
    "# Show the number of NaN values per column and order them from highest to lowest\n",
    "df_copy.isna().sum().sort_values(ascending=False)"
   ]
  },
  {
   "cell_type": "code",
   "execution_count": null,
   "metadata": {},
   "outputs": [],
   "source": [
    "# Show the percentage of NaN values per column and order them from highest to lowest\n",
    "df_copy.isna().sum().sort_values(ascending=False) / len(df_copy)"
   ]
  },
  {
   "cell_type": "code",
   "execution_count": null,
   "metadata": {},
   "outputs": [],
   "source": [
    "# Remove the rows where the number of NaN values is at least 50% of the columns\n",
    "df_copy = df_copy.dropna(thresh=0.5*len(df_copy.columns))"
   ]
  },
  {
   "cell_type": "code",
   "execution_count": null,
   "metadata": {},
   "outputs": [],
   "source": [
    "# one hot encode the column \"event.key\" and drop the original column\n",
    "df_copy = pd.get_dummies(df_copy, columns=['event.key'], drop_first=True)"
   ]
  },
  {
   "cell_type": "code",
   "execution_count": null,
   "metadata": {},
   "outputs": [],
   "source": [
    "df_copy"
   ]
  },
  {
   "cell_type": "code",
   "execution_count": null,
   "metadata": {},
   "outputs": [],
   "source": [
    "# Show the amount of naN vales per column\n",
    "df_copy.isna().sum()\n",
    "\n",
    "# Remove the columns with more than 100000 NaN values\n",
    "df_copy = df_copy.dropna(axis=1, thresh=100000)\n",
    "\n",
    "df_copy\n",
    "\n",
    "# Create a dataframe called df_variables that is a copy of df_copy\n",
    "df_variables = df_copy.copy()"
   ]
  },
  {
   "cell_type": "code",
   "execution_count": null,
   "metadata": {},
   "outputs": [],
   "source": [
    "df_variables"
   ]
  },
  {
   "cell_type": "code",
   "execution_count": null,
   "metadata": {},
   "outputs": [],
   "source": [
    "df_variables.info()"
   ]
  },
  {
   "cell_type": "code",
   "execution_count": null,
   "metadata": {},
   "outputs": [],
   "source": [
    "# for the NaN values, fill them with the mean of the column\n",
    "df_variables = df_variables.fillna(df_variables.mean())"
   ]
  },
  {
   "cell_type": "code",
   "execution_count": null,
   "metadata": {},
   "outputs": [],
   "source": [
    "# Create a histogram for all the numerical columns\n",
    "df_variables.hist(figsize=(40, 40))\n",
    "plt.show()"
   ]
  },
  {
   "cell_type": "code",
   "execution_count": null,
   "metadata": {},
   "outputs": [],
   "source": [
    "# create a correlation matrix\n",
    "correlation_matrix = df_variables.corr()\n",
    "correlation_matrix"
   ]
  },
  {
   "cell_type": "code",
   "execution_count": null,
   "metadata": {},
   "outputs": [],
   "source": [
    "# create boplots for the numerical columns, to see if there are any outliers\n",
    "for column in df_variables.columns:\n",
    "    if df_variables[column].dtype in ['float64', 'int64']:\n",
    "        plt.boxplot(df_variables[column])\n",
    "        plt.title(column)\n",
    "        plt.show()\n",
    "\n",
    "        # show outliers\n",
    "        Q1 = df_variables[column].quantile(0.25)\n",
    "        Q3 = df_variables[column].quantile(0.75)\n",
    "        IQR = Q3 - Q1\n",
    "        print(f\"Outliers for {column}:\")\n",
    "        print(df_variables[(df_variables[column] < (Q1 - 1.5 * IQR)) | (df_variables[column] > (Q3 + 1.5 * IQR))][column])\n",
    "        "
   ]
  },
  {
   "cell_type": "code",
   "execution_count": null,
   "metadata": {},
   "outputs": [],
   "source": [
    "# use a kmeans clustering algorithm to cluster the data and see if there are any patterns, visualise the clusters\n",
    "from sklearn.cluster import KMeans\n",
    "from sklearn.preprocessing import StandardScaler\n",
    "\n",
    "# scale the data\n",
    "scaler = StandardScaler()\n",
    "\n",
    "df_variables_scaled = scaler.fit_transform(df_variables)\n",
    "\n",
    "# create a kmeans model\n",
    "kmeans = KMeans(n_clusters=50, random_state=0)\n",
    "\n",
    "# fit the model\n",
    "kmeans.fit(df_variables_scaled)\n",
    "\n",
    "# create a new column in the dataframe called \"cluster\" and assign the cluster to each row\n",
    "df_variables['cluster'] = kmeans.labels_\n",
    "\n",
    "# create a scatter plot of the clusters\n",
    "plt.scatter(df_variables['device.metric.btemp'], df_variables['device.metric.bpackv'], c=df_variables['cluster'])\n",
    "plt.xlabel('temperature')\n",
    "plt.ylabel('voltage')\n",
    "plt.title('Clusters of locations')\n",
    "plt.show()"
   ]
  },
  {
   "cell_type": "code",
   "execution_count": null,
   "metadata": {},
   "outputs": [],
   "source": [
    "df_variables"
   ]
  },
  {
   "cell_type": "code",
   "execution_count": null,
   "metadata": {},
   "outputs": [],
   "source": [
    "# visualize the outliers\n",
    "plt.scatter(df_variables['device.metric.btemp'], df_variables['device.metric.bpackv'])\n",
    "plt.xlabel('Latitude')\n",
    "plt.ylabel('Longitude')\n",
    "plt.title('Outliers of locations')\n",
    "plt.show()"
   ]
  },
  {
   "cell_type": "code",
   "execution_count": null,
   "metadata": {},
   "outputs": [],
   "source": []
  }
 ],
 "metadata": {
  "kernelspec": {
   "display_name": "Python 3",
   "language": "python",
   "name": "python3"
  },
  "language_info": {
   "codemirror_mode": {
    "name": "ipython",
    "version": 3
   },
   "file_extension": ".py",
   "mimetype": "text/x-python",
   "name": "python",
   "nbconvert_exporter": "python",
   "pygments_lexer": "ipython3",
   "version": "3.10.7"
  }
 },
 "nbformat": 4,
 "nbformat_minor": 2
}
