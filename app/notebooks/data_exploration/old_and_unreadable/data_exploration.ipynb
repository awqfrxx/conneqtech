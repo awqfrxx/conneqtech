{
 "cells": [
  {
   "cell_type": "code",
   "execution_count": null,
   "metadata": {},
   "outputs": [],
   "source": [
    "import pandas as pd\n",
    "import numpy as np\n",
    "import matplotlib.pyplot as plt"
   ]
  },
  {
   "cell_type": "code",
   "execution_count": null,
   "metadata": {},
   "outputs": [],
   "source": [
    "# Load in the data\n",
    "df = pd.read_csv(r\"../data/first_1000_JSON_files.csv\", low_memory=True)\n",
    "\n",
    "# Create a copy of the dataframe to work with\n",
    "df_copy = df.copy()"
   ]
  },
  {
   "cell_type": "code",
   "execution_count": null,
   "metadata": {},
   "outputs": [],
   "source": [
    "df.columns"
   ]
  },
  {
   "cell_type": "code",
   "execution_count": null,
   "metadata": {},
   "outputs": [],
   "source": [
    "# show the unique values in the 'event.key' column and their counts\n",
    "df['event.key'].value_counts()"
   ]
  },
  {
   "cell_type": "code",
   "execution_count": null,
   "metadata": {},
   "outputs": [],
   "source": [
    "# show the entire value in the 'imei' column. not the truncated version\n",
    "pd.set_option('display.max_colwidth', None)"
   ]
  },
  {
   "cell_type": "code",
   "execution_count": null,
   "metadata": {},
   "outputs": [],
   "source": [
    "df_copy.head(5)"
   ]
  },
  {
   "cell_type": "code",
   "execution_count": null,
   "metadata": {},
   "outputs": [],
   "source": [
    "df.describe()"
   ]
  },
  {
   "cell_type": "code",
   "execution_count": null,
   "metadata": {},
   "outputs": [],
   "source": [
    "# show a few values in the 'imei\" column and sohw the entire value not the truncated version\n",
    "df['imei'].value_counts()\n",
    "\n",
    "# change the value in the imei column to display  from scientific notation to standard notation\n",
    "pd.set_option('display.float_format', lambda x: '%.3f' % x)\n",
    "\n",
    "df.dtypes\n",
    "\n",
    "# change imei column to a int64 data type\n",
    "df['imei'] = df['imei'].astype('int64')\n",
    "\n",
    "# show the duplicates in the imei column\n",
    "df['imei'].value_counts()\n",
    "\n",
    "# show the top 10\n",
    "df['imei'].value_counts().head(10)"
   ]
  },
  {
   "cell_type": "code",
   "execution_count": null,
   "metadata": {},
   "outputs": [],
   "source": [
    "df_copy.info()"
   ]
  },
  {
   "cell_type": "code",
   "execution_count": null,
   "metadata": {},
   "outputs": [],
   "source": [
    "# Show the columns where the number of NaN values is at least 80% of the rows\n",
    "df_copy.columns[df_copy.isna().sum() > 0.8 * len(df_copy)]\n",
    "\n",
    "# Save these columns to a variable called columns_to_drop_because_of_80_percent_NaN\n",
    "columns_to_drop_because_of_80_percent_NaN = df_copy.columns[df_copy.isna().sum() > 0.8 * len(df_copy)]\n",
    "\n",
    "# Drop these columns from the dataframe\n",
    "df_copy = df_copy.drop(columns=columns_to_drop_because_of_80_percent_NaN)"
   ]
  },
  {
   "cell_type": "code",
   "execution_count": null,
   "metadata": {},
   "outputs": [],
   "source": [
    "df_copy"
   ]
  },
  {
   "cell_type": "code",
   "execution_count": null,
   "metadata": {},
   "outputs": [],
   "source": [
    "# Drop the columns that are not useful for the analysis\n",
    "columns_to_drop = ['_id', 'imei', 'dts', 'dtd', 'event.dte', 'tracker.loc.dtg', 'tracker.loc.hdop', 'tracker.loc.alt', 'tracker.loc.ang', 'tracker.loc.sp', 'tracker.gsm.mcc', 'tracker.gsm.mnc', 'tracker.gsm.lac', 'tracker.gsm.cid',\n",
    "                   'tracker.metric.deculock', 'tracker.metric.dstatus', 'file_name']\n",
    "\n",
    "# Check if the columns are in the dataframe and remove the ones that are\n",
    "for column in columns_to_drop:\n",
    "    if column in df_copy.columns:\n",
    "        df_copy = df_copy.drop(columns=column)"
   ]
  },
  {
   "cell_type": "code",
   "execution_count": null,
   "metadata": {},
   "outputs": [],
   "source": [
    "df_copy"
   ]
  },
  {
   "cell_type": "code",
   "execution_count": null,
   "metadata": {},
   "outputs": [],
   "source": [
    "# Show the number of NaN values per column and order them from highest to lowest\n",
    "df_copy.isna().sum().sort_values(ascending=False)"
   ]
  },
  {
   "cell_type": "code",
   "execution_count": null,
   "metadata": {},
   "outputs": [],
   "source": [
    "# Show the percentage of NaN values per column and order them from highest to lowest\n",
    "df_copy.isna().sum().sort_values(ascending=False) / len(df_copy)"
   ]
  },
  {
   "cell_type": "code",
   "execution_count": null,
   "metadata": {},
   "outputs": [],
   "source": [
    "# Remove the rows where the number of NaN values is at least 50% of the columns\n",
    "df_copy = df_copy.dropna(thresh=0.5*len(df_copy.columns))"
   ]
  },
  {
   "cell_type": "code",
   "execution_count": null,
   "metadata": {},
   "outputs": [],
   "source": [
    "# one hot encode the column \"event.key\" and drop the original column\n",
    "df_copy = pd.get_dummies(df_copy, columns=['event.key'], drop_first=True)"
   ]
  },
  {
   "cell_type": "code",
   "execution_count": null,
   "metadata": {},
   "outputs": [],
   "source": [
    "df_copy"
   ]
  },
  {
   "cell_type": "code",
   "execution_count": null,
   "metadata": {},
   "outputs": [],
   "source": [
    "# Show the amount of naN vales per column\n",
    "df_copy.isna().sum()\n",
    "\n",
    "# Remove the columns with more than 100000 NaN values\n",
    "df_copy = df_copy.dropna(axis=1, thresh=100000)\n",
    "\n",
    "df_copy\n",
    "\n",
    "# Create a dataframe called df_variables that is a copy of df_copy\n",
    "df_variables = df_copy.copy()"
   ]
  },
  {
   "cell_type": "code",
   "execution_count": null,
   "metadata": {},
   "outputs": [],
   "source": [
    "df_variables"
   ]
  },
  {
   "cell_type": "code",
   "execution_count": null,
   "metadata": {},
   "outputs": [],
   "source": [
    "df_variables.info()"
   ]
  },
  {
   "cell_type": "code",
   "execution_count": null,
   "metadata": {},
   "outputs": [],
   "source": [
    "# for the NaN values, fill them with the mean of the column\n",
    "df_variables = df_variables.fillna(df_variables.mean())"
   ]
  },
  {
   "cell_type": "code",
   "execution_count": null,
   "metadata": {},
   "outputs": [],
   "source": [
    "# Create a histogram for all the numerical columns\n",
    "df_variables.hist(figsize=(40, 40))\n",
    "plt.show()"
   ]
  },
  {
   "cell_type": "code",
   "execution_count": null,
   "metadata": {},
   "outputs": [],
   "source": [
    "# create a correlation matrix\n",
    "correlation_matrix = df_variables.corr()\n",
    "correlation_matrix"
   ]
  },
  {
   "cell_type": "code",
   "execution_count": null,
   "metadata": {},
   "outputs": [],
   "source": [
    "# create boplots for the numerical columns, to see if there are any outliers\n",
    "for column in df_variables.columns:\n",
    "    if df_variables[column].dtype in ['float64', 'int64']:\n",
    "        plt.boxplot(df_variables[column])\n",
    "        plt.title(column)\n",
    "        plt.show()\n",
    "\n",
    "        # show outliers\n",
    "        Q1 = df_variables[column].quantile(0.25)\n",
    "        Q3 = df_variables[column].quantile(0.75)\n",
    "        IQR = Q3 - Q1\n",
    "        print(f\"Outliers for {column}:\")\n",
    "        print(df_variables[(df_variables[column] < (Q1 - 1.5 * IQR)) | (df_variables[column] > (Q3 + 1.5 * IQR))][column])\n",
    "        "
   ]
  },
  {
   "cell_type": "code",
   "execution_count": null,
   "metadata": {},
   "outputs": [],
   "source": [
    "# use a kmeans clustering algorithm to cluster the data and see if there are any patterns, visualise the clusters\n",
    "from sklearn.cluster import KMeans\n",
    "from sklearn.preprocessing import StandardScaler\n",
    "\n",
    "# scale the data\n",
    "scaler = StandardScaler()\n",
    "\n",
    "df_variables_scaled = scaler.fit_transform(df_variables)\n",
    "\n",
    "# create a kmeans model\n",
    "kmeans = KMeans(n_clusters=50, random_state=0)\n",
    "\n",
    "# fit the model\n",
    "kmeans.fit(df_variables_scaled)\n",
    "\n",
    "# create a new column in the dataframe called \"cluster\" and assign the cluster to each row\n",
    "df_variables['cluster'] = kmeans.labels_\n",
    "\n",
    "# create a scatter plot of the clusters\n",
    "plt.scatter(df_variables['device.metric.btemp'], df_variables['device.metric.bpackv'], c=df_variables['cluster'])\n",
    "plt.xlabel('temperature')\n",
    "plt.ylabel('voltage')\n",
    "plt.title('Clusters of locations')\n",
    "plt.show()"
   ]
  },
  {
   "cell_type": "code",
   "execution_count": null,
   "metadata": {},
   "outputs": [],
   "source": [
    "df_variables"
   ]
  },
  {
   "cell_type": "code",
   "execution_count": null,
   "metadata": {},
   "outputs": [],
   "source": [
    "# visualize the outliers\n",
    "plt.scatter(df_variables['device.metric.btemp'], df_variables['device.metric.bpackv'])\n",
    "plt.xlabel('Latitude')\n",
    "plt.ylabel('Longitude')\n",
    "plt.title('Outliers of locations')\n",
    "plt.show()"
   ]
  },
  {
   "cell_type": "code",
   "execution_count": null,
   "metadata": {},
   "outputs": [],
   "source": []
  }
 ],
 "metadata": {
  "kernelspec": {
   "display_name": "Python 3",
   "language": "python",
   "name": "python3"
  },
  "language_info": {
   "codemirror_mode": {
    "name": "ipython",
    "version": 3
   },
   "file_extension": ".py",
   "mimetype": "text/x-python",
   "name": "python",
   "nbconvert_exporter": "python",
   "pygments_lexer": "ipython3",
   "version": "3.10.7"
  }
 },
 "nbformat": 4,
 "nbformat_minor": 2
}
