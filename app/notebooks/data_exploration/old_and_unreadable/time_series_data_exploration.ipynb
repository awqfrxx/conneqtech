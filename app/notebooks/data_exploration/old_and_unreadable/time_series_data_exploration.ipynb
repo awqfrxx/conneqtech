{
 "cells": [
  {
   "cell_type": "code",
   "execution_count": null,
   "metadata": {},
   "outputs": [],
   "source": [
    "import pandas as pd\n",
    "import numpy as np\n",
    "import matplotlib.pyplot as plt\n",
    "\n",
    "import statsmodels.api as sm\n",
    "from statsmodels.tsa.seasonal import STL\n",
    "import random"
   ]
  },
  {
   "cell_type": "code",
   "execution_count": null,
   "metadata": {},
   "outputs": [],
   "source": [
    "# Load in the data\n",
    "df = pd.read_csv(r\"../data/first_1000_JSON_files.csv\", low_memory=True)\n",
    "\n",
    "# Create a copy of the dataframe to work with\n",
    "df_copy = df.copy()\n",
    "\n",
    "# # change the value in the imei column to display  from scientific notation to standard notation\n",
    "pd.set_option('display.float_format', lambda x: '%.3f' % x)"
   ]
  },
  {
   "cell_type": "code",
   "execution_count": null,
   "metadata": {},
   "outputs": [],
   "source": [
    "# change imei column to a int64 data type\n",
    "df_copy['imei'] = df_copy['imei'].astype('int64')"
   ]
  },
  {
   "cell_type": "code",
   "execution_count": null,
   "metadata": {},
   "outputs": [],
   "source": [
    "# only keep the rows where the value in the column 'imei' is 868500050064237\n",
    "df_first_iot = df_copy[df_copy['imei'] == 868500050064237]"
   ]
  },
  {
   "cell_type": "code",
   "execution_count": null,
   "metadata": {},
   "outputs": [],
   "source": [
    "# create a dataframe with the columns 'imei' ,'dtd' and 'event.metric.btemp'\n",
    "df_first_iot_btemp = df_first_iot[['imei', 'dtd', 'tracker.metric.bbatp','event.key']]"
   ]
  },
  {
   "cell_type": "code",
   "execution_count": null,
   "metadata": {},
   "outputs": [],
   "source": [
    "df_first_iot_btemp"
   ]
  },
  {
   "cell_type": "code",
   "execution_count": null,
   "metadata": {},
   "outputs": [],
   "source": [
    "# show the value counts of the column 'device.metric.dactualsp'\n",
    "df_first_iot_btemp['tracker.metric.bbatp'].value_counts()"
   ]
  },
  {
   "cell_type": "code",
   "execution_count": null,
   "metadata": {},
   "outputs": [],
   "source": [
    "# show the amount of rows where 'device.metric.btemp' is not null\n",
    "df_first_iot_btemp['device.metric.dactualsp'].count()\n",
    "\n",
    "# only keep these rows\n",
    "df_first_iot_btemp = df_first_iot_btemp[df_first_iot_btemp['device.metric.dactualsp'].notnull()]\n",
    "\n",
    "# change the data type of the column 'device.metric.btemp' to an int64\n",
    "df_first_iot_btemp['device.metric.dactualsp'] = df_first_iot_btemp['device.metric.dactualsp'].astype('int64')\n",
    "\n",
    "# change the data type of the column 'dtd' to a datetime\n",
    "df_first_iot_btemp['dtd'] = pd.to_datetime(df_first_iot_btemp['dtd'])"
   ]
  },
  {
   "cell_type": "code",
   "execution_count": null,
   "metadata": {},
   "outputs": [],
   "source": [
    "df_first_iot_btemp.dtypes"
   ]
  },
  {
   "cell_type": "code",
   "execution_count": null,
   "metadata": {},
   "outputs": [],
   "source": [
    "df_first_iot_btemp"
   ]
  },
  {
   "cell_type": "code",
   "execution_count": null,
   "metadata": {},
   "outputs": [],
   "source": [
    "df_first_iot_btemp['days'] = df_first_iot_btemp['dtd'] - df_first_iot_btemp['dtd'].min()\n",
    "df_first_iot_btemp['hours'] = df_first_iot_btemp['days'].dt.total_seconds() / 3600"
   ]
  },
  {
   "cell_type": "code",
   "execution_count": null,
   "metadata": {},
   "outputs": [],
   "source": [
    "# if the date in the 'dtd' column occurs more than once, only keep the first occurence\n",
    "df_first_iot_btemp = df_first_iot_btemp.drop_duplicates(subset='dtd', keep='first')"
   ]
  },
  {
   "cell_type": "code",
   "execution_count": null,
   "metadata": {},
   "outputs": [],
   "source": [
    "# only keep the wors where device.metric.dactualsp is greater than 0\n",
    "df_first_iot_btemp = df_first_iot_btemp[df_first_iot_btemp['device.metric.dactualsp'] > 0]"
   ]
  },
  {
   "cell_type": "code",
   "execution_count": null,
   "metadata": {},
   "outputs": [],
   "source": [
    "# only show some rows where event.key is not nan\n",
    "# df_first_iot_btemp = df_first_iot_btemp[df_first_iot_btemp['event.key'].notnull()]\n",
    "\n",
    "# # show unique values in the device.metric.bsocp column\n",
    "# df_first_iot_btemp['device.metric.dactualsp'].value_counts()"
   ]
  },
  {
   "cell_type": "code",
   "execution_count": null,
   "metadata": {},
   "outputs": [],
   "source": [
    "plt.rc('font', size=12)\n",
    "fig, ax = plt.subplots(figsize=(15, 6))\n",
    "\n",
    "plt.plot(df_first_iot_btemp['days'], df_first_iot_btemp['device.metric.dactualsp'], linewidth=1)\n",
    "\n",
    "ax.set_xlabel('Date')\n",
    "ax.set_ylabel('Battery State of Charge Percentage')\n",
    "ax.grid(True)\n",
    "ax.legend(loc='upper left');"
   ]
  },
  {
   "cell_type": "code",
   "execution_count": null,
   "metadata": {},
   "outputs": [],
   "source": [
    "# # create a plot for the first 96 hours\n",
    "fig, ax = plt.subplots(figsize=(15, 6))\n",
    "\n",
    "plt.plot(df_first_iot_btemp['hours'][:73], df_first_iot_btemp['device.metric.dactualsp'][:73], linewidth=1)\n",
    "\n",
    "ax.set_xlabel('Hours')\n",
    "ax.set_ylabel('Battery State of Charge Percentage')\n",
    "ax.grid(True)\n",
    "ax.legend(loc='upper left');"
   ]
  },
  {
   "cell_type": "code",
   "execution_count": null,
   "metadata": {},
   "outputs": [],
   "source": [
    "lowess = sm.nonparametric.lowess(df_first_iot_btemp['device.metric.dactualsp'], df_first_iot_btemp['days'], frac=0.1)\n",
    "lowess_x = list(zip(*lowess))[0]\n",
    "lowess_y = list(zip(*lowess))[1]"
   ]
  },
  {
   "cell_type": "code",
   "execution_count": null,
   "metadata": {},
   "outputs": [],
   "source": [
    "# this but with the first 96 hours\n",
    "lowess = sm.nonparametric.lowess(df_first_iot_btemp['device.metric.dactualsp'][:73], df_first_iot_btemp['hours'][:73], frac=0.1)\n",
    "lowess_x = list(zip(*lowess))[0]\n",
    "lowess_y = list(zip(*lowess))[1]\n",
    "\n",
    "plt.rc('font', size=12)\n",
    "fig, ax = plt.subplots(figsize=(15, 6))\n",
    "\n",
    "plt.plot(df_first_iot_btemp['hours'][:73], df_first_iot_btemp['device.metric.dactualsp'][:73])\n",
    "plt.plot(lowess_x, lowess_y)\n",
    "\n",
    "ax.set_xlabel('Hours')\n",
    "ax.set_ylabel('Battery State of Charge Percentage')\n",
    "ax.grid(True)\n",
    "ax.legend(loc='upper left');"
   ]
  },
  {
   "cell_type": "code",
   "execution_count": null,
   "metadata": {},
   "outputs": [],
   "source": [
    "# decompose the time series\n",
    "stl = STL(df_first_iot_btemp['device.metric.dactualsp'].to_numpy(), period= 96)\n",
    "res = stl.fit()"
   ]
  },
  {
   "cell_type": "code",
   "execution_count": null,
   "metadata": {},
   "outputs": [],
   "source": [
    "seasonal, trend, resid = res.seasonal, res.trend, res.resid\n",
    "\n",
    "cleaned_data = seasonal + trend"
   ]
  },
  {
   "cell_type": "code",
   "execution_count": null,
   "metadata": {},
   "outputs": [],
   "source": [
    "plt.figure(figsize = (15, 12))\n",
    "\n",
    "plt.subplot(3,1,1)\n",
    "plt.plot(seasonal)\n",
    "plt.title('Seasonal')\n",
    "\n",
    "plt.subplot(3,1,2)\n",
    "plt.plot(trend)\n",
    "plt.title('Trend')\n",
    "\n",
    "plt.subplot(3,1,3)\n",
    "plt.plot(resid)\n",
    "plt.title('Residuals')\n",
    "\n",
    "plt.show()"
   ]
  },
  {
   "cell_type": "code",
   "execution_count": null,
   "metadata": {},
   "outputs": [],
   "source": [
    "res_mean = resid.mean()\n",
    "resid_std = resid.std()\n",
    "\n",
    "lower_bound = res_mean - 2*resid_std\n",
    "upper_bound = res_mean + 2*resid_std"
   ]
  },
  {
   "cell_type": "code",
   "execution_count": null,
   "metadata": {},
   "outputs": [],
   "source": [
    "plt.rc('font', size=12)\n",
    "fig, ax = plt.subplots(figsize=(15, 6))\n",
    "\n",
    "plt.plot(cleaned_data)\n",
    "plt.fill_between(list(range(587)), cleaned_data - lower_bound, cleaned_data + lower_bound, color = 'g', alpha = 0.15)\n",
    "\n",
    "ax.set_xlabel('Date')\n",
    "ax.set_ylabel('speed')\n",
    "\n",
    "# plt.ylim(bottom=0)"
   ]
  },
  {
   "cell_type": "code",
   "execution_count": null,
   "metadata": {},
   "outputs": [],
   "source": [
    "anomalies = df_first_iot_btemp[(resid < lower_bound) | (resid > upper_bound)]"
   ]
  },
  {
   "cell_type": "code",
   "execution_count": null,
   "metadata": {},
   "outputs": [],
   "source": [
    "# anomalies[['date', 'meantemp']].rename(columns={'meantemp': 'anomaly_value'}).join(\n",
    "#     meantemp_data[(resid < lower_bound) | (resid > upper_bound)][['date', 'meantemp']].set_index('date'),\n",
    "#     on = 'date'\n",
    "# )\n",
    "\n",
    "\n",
    "# make the above code work for my code\n",
    "anomalies[['dtd', 'device.metric.dactualsp']].rename(columns={'device.metric.dactualsp': 'anomaly_value'}).join(\n",
    "    df_first_iot_btemp[(resid < lower_bound) | (resid > upper_bound)][['dtd', 'device.metric.dactualsp']].set_index('dtd'),\n",
    "    on = 'dtd'\n",
    ")"
   ]
  },
  {
   "cell_type": "code",
   "execution_count": null,
   "metadata": {},
   "outputs": [],
   "source": []
  }
 ],
 "metadata": {
  "kernelspec": {
   "display_name": "Python 3",
   "language": "python",
   "name": "python3"
  },
  "language_info": {
   "codemirror_mode": {
    "name": "ipython",
    "version": 3
   },
   "file_extension": ".py",
   "mimetype": "text/x-python",
   "name": "python",
   "nbconvert_exporter": "python",
   "pygments_lexer": "ipython3",
   "version": "3.10.7"
  }
 },
 "nbformat": 4,
 "nbformat_minor": 2
}
