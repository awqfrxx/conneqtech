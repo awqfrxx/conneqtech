{
 "cells": [
  {
   "cell_type": "code",
   "execution_count": null,
   "metadata": {},
   "outputs": [],
   "source": [
    "import pandas as pd\n",
    "import numpy as np\n",
    "import matplotlib.pyplot as plt"
   ]
  },
  {
   "cell_type": "code",
   "execution_count": null,
   "metadata": {},
   "outputs": [],
   "source": [
    "# load in the data\n",
    "original_df = pd.read_csv(r'../../data/first_1000_JSON_files.csv', low_memory=True)\n",
    "\n",
    "# create a copy to work on\n",
    "df = original_df.copy()\n",
    "\n",
    "# change the value in the imei column to display  from scientific notation to standard notation\n",
    "pd.set_option('display.float_format', lambda x: '%.3f' % x)\n",
    "\n",
    "# change dtype of imei column to int64\n",
    "df['imei'] = df['imei'].astype('int64')\n",
    "\n",
    "# change dtype of dtd column to datetime\n",
    "df['dtd'] = pd.to_datetime(df['dtd'])"
   ]
  },
  {
   "cell_type": "markdown",
   "metadata": {},
   "source": [
    "### variables"
   ]
  },
  {
   "cell_type": "code",
   "execution_count": null,
   "metadata": {},
   "outputs": [],
   "source": [
    "# set the imei variable to what to filter the rows on (this can be changed manually)\n",
    "# imei = [868500050064237, 868500050064351, 868500050060516, 868500050058080, 868500050062249]\n",
    "\n",
    "# set imei to all imei's in the data for a test run\n",
    "imei = df['imei'].unique()\n",
    "\n",
    "# set a variable to select the column(s) to display\n",
    "columns_to_display = ['imei',\n",
    "                      'dtd',\n",
    "                      'tracker.metric.bbatp',\n",
    "                      'device.metric.dactualsp',\n",
    "                      'device.metric.btemp',\n",
    "                      'event.key'\n",
    "                      ]\n",
    "\n",
    "# set a variable to select which column(s) to focus on during the analysis\n",
    "columns_to_focus_on = ['tracker.metric.bbatp', 'device.metric.dactualsp', 'device.metric.btemp', 'event.key']"
   ]
  },
  {
   "cell_type": "markdown",
   "metadata": {},
   "source": [
    "### data exploration"
   ]
  },
  {
   "cell_type": "code",
   "execution_count": null,
   "metadata": {},
   "outputs": [],
   "source": [
    "# filter the rows based on the imei variable and display the columns in the columns_to_display variable\n",
    "# also reset the index\n",
    "df = df[df['imei'].isin(imei)][columns_to_display].reset_index(drop=True)"
   ]
  },
  {
   "cell_type": "code",
   "execution_count": null,
   "metadata": {},
   "outputs": [],
   "source": [
    "df"
   ]
  },
  {
   "cell_type": "code",
   "execution_count": null,
   "metadata": {},
   "outputs": [],
   "source": [
    "# sort by date first and then show the first 60 rows\n",
    "df.sort_values(by='dtd').head(60)"
   ]
  },
  {
   "cell_type": "code",
   "execution_count": null,
   "metadata": {},
   "outputs": [],
   "source": [
    "# export the df to a csv file\n",
    "# uncomment to export the df to a csv file\n",
    "\n",
    "# df.to_csv(r'../../data/data_exploration_df.csv', index=False)"
   ]
  },
  {
   "cell_type": "code",
   "execution_count": null,
   "metadata": {},
   "outputs": [],
   "source": [
    "# show the earliest and latest date in the data\n",
    "# print(df['dtd'].min())\n",
    "# print(df['dtd'].max())\n",
    "\n",
    "# # show rows for the earliest 15 dates in the data\n",
    "# print(df.nsmallest(15, 'dtd'))\n",
    "\n",
    "# show all rows where imei = 868500050065176 in a df, but dont show rows where tracker.metric.bbatp = NaN\n",
    "# df[(df['imei'] == 868500050065176) & (df['tracker.metric.bbatp'].notna())]"
   ]
  },
  {
   "cell_type": "code",
   "execution_count": null,
   "metadata": {},
   "outputs": [],
   "source": [
    "# for the columns in the columns_to_focus_on variable, show the value_counts\n",
    "for column in columns_to_focus_on:\n",
    "    print(df[column].value_counts(), '\\n') # put whitespace between the value_counts for readability"
   ]
  },
  {
   "cell_type": "code",
   "execution_count": null,
   "metadata": {},
   "outputs": [],
   "source": [
    "# first show the length of the dataframe\n",
    "print(f'Length of dataframe: {len(df)}', '\\n')\n",
    "\n",
    "# then for the columns_to_focus_on variable, show the NaN values and the percentage of NaN values\n",
    "for column in columns_to_focus_on:\n",
    "    print(f'NaN values in {column}: {df[column].isna().sum()}')\n",
    "    print(f'Percentage of NaN values in {column}: {round(df[column].isna().sum() / len(df) * 100, 2)}%', '\\n')"
   ]
  },
  {
   "cell_type": "code",
   "execution_count": null,
   "metadata": {},
   "outputs": [],
   "source": [
    "# for the columns_to_focus_on variable, check if it's a numerical column, and if yes, create a plot for the values per dtd\n",
    "# use a different color for each imei\n",
    "for column in columns_to_focus_on:\n",
    "    if df[column].dtype in ['int64', 'float64']:\n",
    "        df.plot(x='dtd', y=column, title=column, figsize=(15, 5))\n",
    "        plt.show()\n",
    "    else:\n",
    "        print(f'{column} is not a numerical column', '\\n')"
   ]
  },
  {
   "cell_type": "code",
   "execution_count": null,
   "metadata": {},
   "outputs": [],
   "source": [
    "# outliers_df = pd.DataFrame()\n",
    "\n",
    "# create a scatterplot for the columns_to_focus_on variable, and use a different color for each imei in the same plot\n",
    "for column in columns_to_focus_on:\n",
    "    if df[column].dtype in ['int64', 'float64']:\n",
    "        df.plot(x='dtd', y=column, kind='scatter', title=column, figsize=(25, 15), alpha=0.3)\n",
    "        plt.show()\n",
    "        \n",
    "        # find and store outliers in a df with a column to know which column the outlier is from\n",
    "#         q1 = df[column].quantile(0.25)\n",
    "#         q3 = df[column].quantile(0.75)\n",
    "#         iqr = q3 - q1\n",
    "#         lower_bound = q1 - (1.5 * iqr)\n",
    "#         upper_bound = q3 + (1.5 * iqr)\n",
    "        \n",
    "#         outliers = df[(df[column] < lower_bound) | (df[column] > upper_bound)]\n",
    "#         outliers['Outlier_Column'] = column \n",
    "#         outliers_df = pd.concat([outliers_df, outliers], ignore_index=True)\n",
    "#     else:\n",
    "#         print(f'{column} is not a numerical column', '\\n')\n",
    "\n",
    "# outliers_df"
   ]
  }
 ],
 "metadata": {
  "kernelspec": {
   "display_name": "Python 3",
   "language": "python",
   "name": "python3"
  },
  "language_info": {
   "codemirror_mode": {
    "name": "ipython",
    "version": 3
   },
   "file_extension": ".py",
   "mimetype": "text/x-python",
   "name": "python",
   "nbconvert_exporter": "python",
   "pygments_lexer": "ipython3",
   "version": "3.10.7"
  }
 },
 "nbformat": 4,
 "nbformat_minor": 2
}
