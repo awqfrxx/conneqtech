{
 "cells": [
  {
   "cell_type": "markdown",
   "metadata": {},
   "source": [
    "# Import libraries"
   ]
  },
  {
   "cell_type": "code",
   "execution_count": 2,
   "metadata": {},
   "outputs": [],
   "source": [
    "import pandas as pd\n",
    "from pandas import json_normalize\n",
    "from concurrent.futures import ProcessPoolExecutor\n",
    "\n",
    "import numpy as np\n",
    "import matplotlib.pyplot as plt\n",
    "import json\n",
    "import os\n",
    "import re\n",
    "from tqdm import tqdm"
   ]
  },
  {
   "cell_type": "markdown",
   "metadata": {},
   "source": [
    "# Functions"
   ]
  },
  {
   "cell_type": "code",
   "execution_count": 3,
   "metadata": {},
   "outputs": [],
   "source": [
    "def remove_trailing_commas(file_path):\n",
    "    with open(file_path, 'r') as json_file:\n",
    "        data = json_file.read()\n",
    "\n",
    "    # use regex to find and remove trailing commas at the end of arrays\n",
    "    corrected_data = re.sub(r',(?=\\s*[\\]}]\\s*[\\r\\n]*$)', '', data)\n",
    "\n",
    "    with open(file_path, 'w') as json_file:\n",
    "        json_file.write(corrected_data)\n",
    "\n",
    "# function to load in the json file        \n",
    "def load_json(file_path):\n",
    "    with open(file_path, 'r') as json_file:\n",
    "        try:\n",
    "            data = json.load(json_file)\n",
    "            return data\n",
    "        except json.JSONDecodeError as e:\n",
    "            print(f\"Error decoding JSON in {file_path}: {e}\")\n",
    "            return None\n",
    "\n",
    "# function to create a dataframe from all the json files.\n",
    "# trying it in batches since memory can't handle it\n",
    "def create_dataframe(directory, batch_size=10, process_all_files=False):\n",
    "    json_files = [f for f in os.listdir(directory) if f.endswith('.json')]\n",
    "\n",
    "    # try it with the first 1000 files first to see if memory can handle it\n",
    "    if not process_all_files:\n",
    "        json_files = json_files[:1000]\n",
    "\n",
    "    if json_files:\n",
    "        # store df's for each JSON file\n",
    "        dfs = []\n",
    "\n",
    "        # process JSON files in batches\n",
    "        for i in range(0, len(json_files), batch_size):\n",
    "            batch_files = json_files[i:i + batch_size]\n",
    "\n",
    "            # process all JSON files in the batch\n",
    "            for current_json_file in batch_files:\n",
    "                file_path = os.path.join(directory, current_json_file)\n",
    "\n",
    "                remove_trailing_commas(file_path)\n",
    "\n",
    "                # load the content of the current JSON file\n",
    "                data = load_json(file_path)\n",
    "\n",
    "                if data is not None:\n",
    "                    # create a df for the current JSON file\n",
    "                    df = pd.json_normalize(data, max_level=3)\n",
    "\n",
    "                    # add new column for the file name without \".json\"\n",
    "                    df['file_name'] = os.path.splitext(current_json_file)[0]\n",
    "\n",
    "                    # append the df to the list\n",
    "                    dfs.append(df)\n",
    "\n",
    "        # concatenate all df's in the list into a single df, should be out of the loop to improve efficiency(?)\n",
    "        result_df = pd.concat(dfs, ignore_index=True, sort=False)\n",
    "\n",
    "        return result_df\n",
    "    else:\n",
    "        print(\"No JSON files found.\")\n",
    "        return None"
   ]
  },
  {
   "cell_type": "code",
   "execution_count": 4,
   "metadata": {},
   "outputs": [],
   "source": [
    "json_directory = r'../data/output/'\n",
    "result_df_first_1000 = create_dataframe(json_directory, batch_size=5, process_all_files=False)"
   ]
  },
  {
   "cell_type": "code",
   "execution_count": 5,
   "metadata": {},
   "outputs": [
    {
     "name": "stdout",
     "output_type": "stream",
     "text": [
      "                                         _id          imei  \\\n",
      "0       fc9878d4-f775-48d8-b8af-20da7c7775f2  8.685001e+14   \n",
      "1       753da335-f4cb-45c5-b580-49c74da8be4c  8.685001e+14   \n",
      "2       fa6c8dc8-d4eb-4c00-8cfa-6b7343d18bb5  8.685001e+14   \n",
      "3       061af346-83ce-4a31-8209-f1f6820800e9  8.685001e+14   \n",
      "4       f7295490-5b01-459a-98f7-ef45888b27e9  8.685001e+14   \n",
      "...                                      ...           ...   \n",
      "725856  9859b82d-cb15-4441-bd93-cd05c217f90f  8.685001e+14   \n",
      "725857  6347c278-b3d0-4f11-9769-27ccc893352d  8.685001e+14   \n",
      "725858  83903a2c-0296-4e0d-86bb-4457bb0c9fa6  8.685001e+14   \n",
      "725859  ecc0713c-0aa5-4257-b3ea-d7b72dd033c1  8.685001e+14   \n",
      "725860  96b42cc2-b3ea-407a-8822-45a309d6eba3  8.685001e+14   \n",
      "\n",
      "                         dts                   dtd       event.key  \\\n",
      "0       2023-11-25T11:54:55Z  2023-11-25T11:54:47Z    battery_info   \n",
      "1       2023-11-26T11:54:31Z  2023-11-26T11:54:29Z             NaN   \n",
      "2       2023-11-27T11:54:50Z  2023-11-27T11:54:47Z    battery_info   \n",
      "3       2023-11-29T07:20:19Z  2023-11-29T07:19:56Z  motion_to_rest   \n",
      "4       2023-11-29T07:20:19Z  2023-11-29T07:20:14Z             NaN   \n",
      "...                      ...                   ...             ...   \n",
      "725856  2023-11-14T05:12:07Z  2023-11-14T05:12:09Z             NaN   \n",
      "725857  2023-11-15T05:09:42Z  2023-11-15T05:09:46Z    battery_info   \n",
      "725858  2023-11-17T05:08:29Z  2023-11-17T05:08:34Z     battery_low   \n",
      "725859  2023-11-17T05:09:40Z  2023-11-17T05:09:46Z    battery_info   \n",
      "725860  2023-11-19T05:09:40Z  2023-11-19T05:09:46Z    battery_info   \n",
      "\n",
      "                   event.dte  tracker.metric.bbatv  tracker.metric.bbatp  \\\n",
      "0       2023-11-25T11:54:47Z                 3.785                  45.0   \n",
      "1                        NaN                 3.785                  45.0   \n",
      "2       2023-11-27T11:54:47Z                 3.778                  43.0   \n",
      "3       2023-11-29T07:19:56Z                   NaN                   NaN   \n",
      "4                        NaN                 3.778                  43.0   \n",
      "...                      ...                   ...                   ...   \n",
      "725856                   NaN                 3.678                  27.0   \n",
      "725857  2023-11-15T05:09:46Z                 3.678                  27.0   \n",
      "725858  2023-11-17T05:08:34Z                 3.678                  27.0   \n",
      "725859  2023-11-17T05:09:46Z                 3.671                  26.0   \n",
      "725860  2023-11-19T05:09:46Z                 3.629                  20.0   \n",
      "\n",
      "             tracker.loc.dtg  tracker.loc.hdop  ...  \\\n",
      "0                        NaN               NaN  ...   \n",
      "1       2023-11-19T11:55:21Z               2.0  ...   \n",
      "2                        NaN               NaN  ...   \n",
      "3       2023-11-19T11:55:21Z               0.0  ...   \n",
      "4       2023-11-19T11:55:21Z               1.0  ...   \n",
      "...                      ...               ...  ...   \n",
      "725856  2023-10-21T05:11:42Z               0.0  ...   \n",
      "725857                   NaN               NaN  ...   \n",
      "725858                   NaN               NaN  ...   \n",
      "725859                   NaN               NaN  ...   \n",
      "725860                   NaN               NaN  ...   \n",
      "\n",
      "        event.meta.true_crash_proba  event.meta.uuid  buff  \\\n",
      "0                               NaN              NaN   NaN   \n",
      "1                               NaN              NaN   NaN   \n",
      "2                               NaN              NaN   NaN   \n",
      "3                               NaN              NaN   NaN   \n",
      "4                               NaN              NaN   NaN   \n",
      "...                             ...              ...   ...   \n",
      "725856                          NaN              NaN   NaN   \n",
      "725857                          NaN              NaN   NaN   \n",
      "725858                          NaN              NaN   NaN   \n",
      "725859                          NaN              NaN   NaN   \n",
      "725860                          NaN              NaN   NaN   \n",
      "\n",
      "        event.meta.geofence_id  event.meta.triggered_by  device.metric.merr  \\\n",
      "0                          NaN                      NaN                 NaN   \n",
      "1                          NaN                      NaN                 NaN   \n",
      "2                          NaN                      NaN                 NaN   \n",
      "3                          NaN                      NaN                 NaN   \n",
      "4                          NaN                      NaN                 NaN   \n",
      "...                        ...                      ...                 ...   \n",
      "725856                     NaN                      NaN                 NaN   \n",
      "725857                     NaN                      NaN                 NaN   \n",
      "725858                     NaN                      NaN                 NaN   \n",
      "725859                     NaN                      NaN                 NaN   \n",
      "725860                     NaN                      NaN                 NaN   \n",
      "\n",
      "        tracker.config.fwver  tracker.config.gsmfwver event.meta.message  \\\n",
      "0                        NaN                      NaN                NaN   \n",
      "1                        NaN                      NaN                NaN   \n",
      "2                        NaN                      NaN                NaN   \n",
      "3                        NaN                      NaN                NaN   \n",
      "4                        NaN                      NaN                NaN   \n",
      "...                      ...                      ...                ...   \n",
      "725856                   NaN                      NaN                NaN   \n",
      "725857                   NaN                      NaN                NaN   \n",
      "725858                   NaN                      NaN                NaN   \n",
      "725859                   NaN                      NaN                NaN   \n",
      "725860                   NaN                      NaN                NaN   \n",
      "\n",
      "       event.meta.step  \n",
      "0                  NaN  \n",
      "1                  NaN  \n",
      "2                  NaN  \n",
      "3                  NaN  \n",
      "4                  NaN  \n",
      "...                ...  \n",
      "725856             NaN  \n",
      "725857             NaN  \n",
      "725858             NaN  \n",
      "725859             NaN  \n",
      "725860             NaN  \n",
      "\n",
      "[725861 rows x 99 columns]\n"
     ]
    }
   ],
   "source": [
    "if result_df_first_1000 is not None:\n",
    "    print(result_df_first_1000)"
   ]
  },
  {
   "cell_type": "code",
   "execution_count": 6,
   "metadata": {},
   "outputs": [
    {
     "name": "stdout",
     "output_type": "stream",
     "text": [
      "_id\n",
      "imei\n",
      "dts\n",
      "dtd\n",
      "event.key\n",
      "event.dte\n",
      "tracker.metric.bbatv\n",
      "tracker.metric.bbatp\n",
      "tracker.loc.dtg\n",
      "tracker.loc.hdop\n",
      "tracker.loc.alt\n",
      "tracker.loc.ang\n",
      "tracker.loc.sp\n",
      "tracker.gsm.mcc\n",
      "tracker.gsm.mnc\n",
      "tracker.gsm.lac\n",
      "tracker.gsm.cid\n",
      "tracker.metric.rssi\n",
      "tracker.metric.moving\n",
      "device.metric.deculock\n",
      "device.metric.dstatus\n",
      "tracker.config.poutput\n",
      "device.metric.bsocp\n",
      "device.metric.bmv\n",
      "device.config.bfcc\n",
      "device.config.bfccp\n",
      "device.metric.btemp\n",
      "device.metric.bpackv\n",
      "tracker.config.ecutype\n",
      "device.metric.bcyc\n",
      "device.config.dwheel\n",
      "device.config.bdcc\n",
      "device.config.bnomv\n",
      "device.config.ecutype\n",
      "device.metric.delectemp\n",
      "device.metric.dpedcad\n",
      "device.metric.dactualsp\n",
      "device.metric.dlight\n",
      "device.metric.dwheels\n",
      "device.metric.bcur\n",
      "device.metric.bstate\n",
      "device.metric.msupp\n",
      "device.metric.mpow\n",
      "device.metric.dmostu\n",
      "device.metric.dmostv\n",
      "device.metric.dmostw\n",
      "device.metric.dridem\n",
      "device.metric.ddayl\n",
      "device.metric.dcontodo\n",
      "device.metric.dtrip\n",
      "device.metric.dwalk\n",
      "event.meta.status\n",
      "device.metric.bdtlastc\n",
      "device.config.dcontver\n",
      "device.config.dcontser\n",
      "device.metric.drange\n",
      "device.metric.dodo\n",
      "device.metric.dodom\n",
      "device.config.ddisver\n",
      "device.config.bser\n",
      "device.config.bswver\n",
      "device.config.ddisser\n",
      "device.config.ddcser\n",
      "device.config.ddcver\n",
      "device.config.dpodser\n",
      "device.config.dpodver\n",
      "file_name\n",
      "tracker.config.blename\n",
      "tracker.config.blefwver\n",
      "crash.type\n",
      "crash.current\n",
      "crash.total\n",
      "crash.vectors\n",
      "event.meta.started_at\n",
      "event.meta.angle_threshold\n",
      "event.meta.angular_change\n",
      "event.meta.crash_timeout\n",
      "event.meta.high_deviation_threshold\n",
      "event.meta.low_deviation_threshold\n",
      "event.meta.maximum_speed\n",
      "event.meta.min_seconds_after_crash\n",
      "event.meta.motion_time\n",
      "event.meta.post_crash_deviation\n",
      "event.meta.post_crash_speed\n",
      "event.meta.pre_crash_deviation\n",
      "event.meta.probability_threshold\n",
      "event.meta.ride_event\n",
      "event.meta.start_crash_proba\n",
      "event.meta.true_crash\n",
      "event.meta.true_crash_proba\n",
      "event.meta.uuid\n",
      "buff\n",
      "event.meta.geofence_id\n",
      "event.meta.triggered_by\n",
      "device.metric.merr\n",
      "tracker.config.fwver\n",
      "tracker.config.gsmfwver\n",
      "event.meta.message\n",
      "event.meta.step\n"
     ]
    }
   ],
   "source": [
    "# Showcase the unique columns\n",
    "for col in result_df_first_1000:\n",
    "    print(col)"
   ]
  },
  {
   "cell_type": "code",
   "execution_count": 7,
   "metadata": {},
   "outputs": [
    {
     "name": "stdout",
     "output_type": "stream",
     "text": [
      "Row where 'event.meta.triggered_by' is not NaN:\n",
      "_id                        c0182215-c6ef-41c2-93f2-86acf3234948\n",
      "imei                                          868500050014075.0\n",
      "dts                                        2023-11-26T11:40:00Z\n",
      "dtd                                        2023-11-26T10:07:20Z\n",
      "event.key                                          battery_info\n",
      "                                           ...                 \n",
      "device.metric.merr                                          NaN\n",
      "tracker.config.fwver                                        NaN\n",
      "tracker.config.gsmfwver                                     NaN\n",
      "event.meta.message                                          NaN\n",
      "event.meta.step                                             NaN\n",
      "Name: 3297, Length: 99, dtype: object\n",
      "\n",
      "Value in the 'event.meta.triggered_by' column: True\n"
     ]
    }
   ],
   "source": [
    "filtered_row = result_df_first_1000[result_df_first_1000['buff'].notna()].iloc[0]\n",
    "\n",
    "# display row\n",
    "print(\"Row where 'event.meta.triggered_by' is not NaN:\")\n",
    "print(filtered_row)\n",
    "\n",
    "# print value in the row\n",
    "eventmetatriggered_by_value = filtered_row['buff']\n",
    "print(f\"\\nValue in the 'event.meta.triggered_by' column: {eventmetatriggered_by_value}\")\n"
   ]
  },
  {
   "cell_type": "code",
   "execution_count": 13,
   "metadata": {},
   "outputs": [],
   "source": [
    "# Export the dataframe to a csv file\n",
    "# result_df_first_1000.to_csv(r'../data/first_1000_JSON_files.csv', index=False)"
   ]
  },
  {
   "cell_type": "markdown",
   "metadata": {},
   "source": [
    "# ydata profiling"
   ]
  },
  {
   "cell_type": "code",
   "execution_count": null,
   "metadata": {},
   "outputs": [
    {
     "data": {
      "application/json": {
       "ascii": false,
       "bar_format": null,
       "colour": null,
       "elapsed": 0.02199840545654297,
       "initial": 0,
       "n": 0,
       "ncols": null,
       "nrows": null,
       "postfix": null,
       "prefix": "Summarize dataset",
       "rate": null,
       "total": 5,
       "unit": "it",
       "unit_divisor": 1000,
       "unit_scale": false
      },
      "application/vnd.jupyter.widget-view+json": {
       "model_id": "8215193e2c8040e19b91f2f2ee3f37fd",
       "version_major": 2,
       "version_minor": 0
      },
      "text/plain": [
       "Summarize dataset:   0%|          | 0/5 [00:00<?, ?it/s]"
      ]
     },
     "metadata": {},
     "output_type": "display_data"
    },
    {
     "data": {
      "application/json": {
       "ascii": false,
       "bar_format": null,
       "colour": null,
       "elapsed": 0.014993906021118164,
       "initial": 0,
       "n": 0,
       "ncols": null,
       "nrows": null,
       "postfix": null,
       "prefix": "Generate report structure",
       "rate": null,
       "total": 1,
       "unit": "it",
       "unit_divisor": 1000,
       "unit_scale": false
      },
      "application/vnd.jupyter.widget-view+json": {
       "model_id": "ba5bb81961d4449eb4d0ccca6c360b6b",
       "version_major": 2,
       "version_minor": 0
      },
      "text/plain": [
       "Generate report structure:   0%|          | 0/1 [00:00<?, ?it/s]"
      ]
     },
     "metadata": {},
     "output_type": "display_data"
    },
    {
     "data": {
      "application/json": {
       "ascii": false,
       "bar_format": null,
       "colour": null,
       "elapsed": 0.018001317977905273,
       "initial": 0,
       "n": 0,
       "ncols": null,
       "nrows": null,
       "postfix": null,
       "prefix": "Render HTML",
       "rate": null,
       "total": 1,
       "unit": "it",
       "unit_divisor": 1000,
       "unit_scale": false
      },
      "application/vnd.jupyter.widget-view+json": {
       "model_id": "f34fc2fd8c5640d6bd20175dffc0bc1a",
       "version_major": 2,
       "version_minor": 0
      },
      "text/plain": [
       "Render HTML:   0%|          | 0/1 [00:00<?, ?it/s]"
      ]
     },
     "metadata": {},
     "output_type": "display_data"
    },
    {
     "data": {
      "application/json": {
       "ascii": false,
       "bar_format": null,
       "colour": null,
       "elapsed": 0.01703619956970215,
       "initial": 0,
       "n": 0,
       "ncols": null,
       "nrows": null,
       "postfix": null,
       "prefix": "Export report to file",
       "rate": null,
       "total": 1,
       "unit": "it",
       "unit_divisor": 1000,
       "unit_scale": false
      },
      "application/vnd.jupyter.widget-view+json": {
       "model_id": "2f3b977a5e4d4f1c95a8d4cabc4ebe4f",
       "version_major": 2,
       "version_minor": 0
      },
      "text/plain": [
       "Export report to file:   0%|          | 0/1 [00:00<?, ?it/s]"
      ]
     },
     "metadata": {},
     "output_type": "display_data"
    }
   ],
   "source": [
    "from ydata_profiling import ProfileReport\n",
    "profile = ProfileReport(result_df_first_1000, title=\"Profiling Report\", minimal=True)\n",
    "profile.to_file(\"profiling_report.html\")"
   ]
  },
  {
   "cell_type": "code",
   "execution_count": null,
   "metadata": {},
   "outputs": [],
   "source": []
  }
 ],
 "metadata": {
  "kernelspec": {
   "display_name": "Python 3",
   "language": "python",
   "name": "python3"
  },
  "language_info": {
   "codemirror_mode": {
    "name": "ipython",
    "version": 3
   },
   "file_extension": ".py",
   "mimetype": "text/x-python",
   "name": "python",
   "nbconvert_exporter": "python",
   "pygments_lexer": "ipython3",
   "version": "3.10.7"
  }
 },
 "nbformat": 4,
 "nbformat_minor": 2
}
